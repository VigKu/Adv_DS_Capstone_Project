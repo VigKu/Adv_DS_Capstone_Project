{
 "cells": [
  {
   "cell_type": "code",
   "execution_count": null,
   "metadata": {},
   "outputs": [],
   "source": [
    "###########################################################################\n",
    "# I would like to acknowledge the authors of these task and images.\n",
    "# Kaggle problem: https://www.kaggle.com/andrewmvd/face-mask-detection\n",
    "# Source of the data: https://makeml.app/datasets/mask\n",
    "###########################################################################"
   ]
  },
  {
   "cell_type": "code",
   "execution_count": 1,
   "metadata": {},
   "outputs": [],
   "source": [
    "#### \n",
    "# Modify the model_num according to the model to be used.\n",
    "####\n",
    "# 1 = PCA SVM\n",
    "# 2 = RandomForest\n",
    "# 3 = CNN\n",
    "model_num = 3"
   ]
  },
  {
   "cell_type": "code",
   "execution_count": 2,
   "metadata": {},
   "outputs": [
    {
     "name": "stdout",
     "output_type": "stream",
     "text": [
      "Requirement already satisfied: tensorflow==2.0 in c:\\users\\vigne\\anaconda3\\envs\\tensorflow\\lib\\site-packages (2.0.0)\n",
      "Requirement already satisfied: wrapt>=1.11.1 in c:\\users\\vigne\\anaconda3\\envs\\tensorflow\\lib\\site-packages (from tensorflow==2.0) (1.12.1)\n",
      "Requirement already satisfied: astor>=0.6.0 in c:\\users\\vigne\\anaconda3\\envs\\tensorflow\\lib\\site-packages (from tensorflow==2.0) (0.8.0)\n",
      "Requirement already satisfied: absl-py>=0.7.0 in c:\\users\\vigne\\anaconda3\\envs\\tensorflow\\lib\\site-packages (from tensorflow==2.0) (0.9.0)\n",
      "Requirement already satisfied: wheel>=0.26 in c:\\users\\vigne\\anaconda3\\envs\\tensorflow\\lib\\site-packages (from tensorflow==2.0) (0.34.2)\n",
      "Requirement already satisfied: termcolor>=1.1.0 in c:\\users\\vigne\\anaconda3\\envs\\tensorflow\\lib\\site-packages (from tensorflow==2.0) (1.1.0)\n",
      "Requirement already satisfied: numpy<2.0,>=1.16.0 in c:\\users\\vigne\\anaconda3\\envs\\tensorflow\\lib\\site-packages (from tensorflow==2.0) (1.18.5)\n",
      "Requirement already satisfied: protobuf>=3.6.1 in c:\\users\\vigne\\anaconda3\\envs\\tensorflow\\lib\\site-packages (from tensorflow==2.0) (3.12.3)\n",
      "Requirement already satisfied: six>=1.10.0 in c:\\users\\vigne\\anaconda3\\envs\\tensorflow\\lib\\site-packages (from tensorflow==2.0) (1.15.0)\n",
      "Requirement already satisfied: grpcio>=1.8.6 in c:\\users\\vigne\\anaconda3\\envs\\tensorflow\\lib\\site-packages (from tensorflow==2.0) (1.27.2)\n",
      "Requirement already satisfied: opt-einsum>=2.3.2 in c:\\users\\vigne\\anaconda3\\envs\\tensorflow\\lib\\site-packages (from tensorflow==2.0) (3.1.0)\n",
      "Requirement already satisfied: tensorboard<2.1.0,>=2.0.0 in c:\\users\\vigne\\anaconda3\\envs\\tensorflow\\lib\\site-packages (from tensorflow==2.0) (2.0.2)\n",
      "Requirement already satisfied: keras-applications>=1.0.8 in c:\\users\\vigne\\anaconda3\\envs\\tensorflow\\lib\\site-packages (from tensorflow==2.0) (1.0.8)\n",
      "Requirement already satisfied: gast==0.2.2 in c:\\users\\vigne\\anaconda3\\envs\\tensorflow\\lib\\site-packages (from tensorflow==2.0) (0.2.2)\n",
      "Requirement already satisfied: tensorflow-estimator<2.1.0,>=2.0.0 in c:\\users\\vigne\\anaconda3\\envs\\tensorflow\\lib\\site-packages (from tensorflow==2.0) (2.0.1)\n",
      "Requirement already satisfied: google-pasta>=0.1.6 in c:\\users\\vigne\\anaconda3\\envs\\tensorflow\\lib\\site-packages (from tensorflow==2.0) (0.2.0)\n",
      "Requirement already satisfied: keras-preprocessing>=1.0.5 in c:\\users\\vigne\\anaconda3\\envs\\tensorflow\\lib\\site-packages (from tensorflow==2.0) (1.1.0)\n",
      "Requirement already satisfied: setuptools in c:\\users\\vigne\\anaconda3\\envs\\tensorflow\\lib\\site-packages (from protobuf>=3.6.1->tensorflow==2.0) (49.1.0.post20200710)\n",
      "Requirement already satisfied: markdown>=2.6.8 in c:\\users\\vigne\\anaconda3\\envs\\tensorflow\\lib\\site-packages (from tensorboard<2.1.0,>=2.0.0->tensorflow==2.0) (3.1.1)\n",
      "Requirement already satisfied: werkzeug>=0.11.15 in c:\\users\\vigne\\anaconda3\\envs\\tensorflow\\lib\\site-packages (from tensorboard<2.1.0,>=2.0.0->tensorflow==2.0) (0.16.1)\n",
      "Requirement already satisfied: requests<3,>=2.21.0 in c:\\users\\vigne\\anaconda3\\envs\\tensorflow\\lib\\site-packages (from tensorboard<2.1.0,>=2.0.0->tensorflow==2.0) (2.24.0)\n",
      "Requirement already satisfied: google-auth-oauthlib<0.5,>=0.4.1 in c:\\users\\vigne\\anaconda3\\envs\\tensorflow\\lib\\site-packages (from tensorboard<2.1.0,>=2.0.0->tensorflow==2.0) (0.4.1)\n",
      "Requirement already satisfied: google-auth<2,>=1.6.3 in c:\\users\\vigne\\anaconda3\\envs\\tensorflow\\lib\\site-packages (from tensorboard<2.1.0,>=2.0.0->tensorflow==2.0) (1.17.2)\n",
      "Requirement already satisfied: h5py in c:\\users\\vigne\\anaconda3\\envs\\tensorflow\\lib\\site-packages (from keras-applications>=1.0.8->tensorflow==2.0) (2.10.0)\n",
      "Requirement already satisfied: certifi>=2017.4.17 in c:\\users\\vigne\\anaconda3\\envs\\tensorflow\\lib\\site-packages (from requests<3,>=2.21.0->tensorboard<2.1.0,>=2.0.0->tensorflow==2.0) (2020.6.20)\n",
      "Requirement already satisfied: chardet<4,>=3.0.2 in c:\\users\\vigne\\anaconda3\\envs\\tensorflow\\lib\\site-packages (from requests<3,>=2.21.0->tensorboard<2.1.0,>=2.0.0->tensorflow==2.0) (3.0.4)\n",
      "Requirement already satisfied: idna<3,>=2.5 in c:\\users\\vigne\\anaconda3\\envs\\tensorflow\\lib\\site-packages (from requests<3,>=2.21.0->tensorboard<2.1.0,>=2.0.0->tensorflow==2.0) (2.10)\n",
      "Requirement already satisfied: urllib3!=1.25.0,!=1.25.1,<1.26,>=1.21.1 in c:\\users\\vigne\\anaconda3\\envs\\tensorflow\\lib\\site-packages (from requests<3,>=2.21.0->tensorboard<2.1.0,>=2.0.0->tensorflow==2.0) (1.25.9)\n",
      "Requirement already satisfied: requests-oauthlib>=0.7.0 in c:\\users\\vigne\\anaconda3\\envs\\tensorflow\\lib\\site-packages (from google-auth-oauthlib<0.5,>=0.4.1->tensorboard<2.1.0,>=2.0.0->tensorflow==2.0) (1.3.0)\n",
      "Requirement already satisfied: rsa<5,>=3.1.4; python_version >= \"3\" in c:\\users\\vigne\\anaconda3\\envs\\tensorflow\\lib\\site-packages (from google-auth<2,>=1.6.3->tensorboard<2.1.0,>=2.0.0->tensorflow==2.0) (4.0)\n",
      "Requirement already satisfied: pyasn1-modules>=0.2.1 in c:\\users\\vigne\\anaconda3\\envs\\tensorflow\\lib\\site-packages (from google-auth<2,>=1.6.3->tensorboard<2.1.0,>=2.0.0->tensorflow==2.0) (0.2.7)\n",
      "Requirement already satisfied: cachetools<5.0,>=2.0.0 in c:\\users\\vigne\\anaconda3\\envs\\tensorflow\\lib\\site-packages (from google-auth<2,>=1.6.3->tensorboard<2.1.0,>=2.0.0->tensorflow==2.0) (4.1.0)\n",
      "Requirement already satisfied: oauthlib>=3.0.0 in c:\\users\\vigne\\anaconda3\\envs\\tensorflow\\lib\\site-packages (from requests-oauthlib>=0.7.0->google-auth-oauthlib<0.5,>=0.4.1->tensorboard<2.1.0,>=2.0.0->tensorflow==2.0) (3.1.0)\n",
      "Requirement already satisfied: pyasn1>=0.1.3 in c:\\users\\vigne\\anaconda3\\envs\\tensorflow\\lib\\site-packages (from rsa<5,>=3.1.4; python_version >= \"3\"->google-auth<2,>=1.6.3->tensorboard<2.1.0,>=2.0.0->tensorflow==2.0) (0.4.8)\n"
     ]
    }
   ],
   "source": [
    "!pip install tensorflow==2.0"
   ]
  },
  {
   "cell_type": "code",
   "execution_count": 3,
   "metadata": {},
   "outputs": [
    {
     "name": "stdout",
     "output_type": "stream",
     "text": [
      "Requirement already satisfied: keras==2.3.0 in c:\\users\\vigne\\anaconda3\\envs\\tensorflow\\lib\\site-packages (2.3.0)\n",
      "Requirement already satisfied: numpy>=1.9.1 in c:\\users\\vigne\\anaconda3\\envs\\tensorflow\\lib\\site-packages (from keras==2.3.0) (1.18.5)\n",
      "Requirement already satisfied: six>=1.9.0 in c:\\users\\vigne\\anaconda3\\envs\\tensorflow\\lib\\site-packages (from keras==2.3.0) (1.15.0)\n",
      "Requirement already satisfied: scipy>=0.14 in c:\\users\\vigne\\anaconda3\\envs\\tensorflow\\lib\\site-packages (from keras==2.3.0) (1.4.1)\n",
      "Requirement already satisfied: keras-applications>=1.0.6 in c:\\users\\vigne\\anaconda3\\envs\\tensorflow\\lib\\site-packages (from keras==2.3.0) (1.0.8)\n",
      "Requirement already satisfied: h5py in c:\\users\\vigne\\anaconda3\\envs\\tensorflow\\lib\\site-packages (from keras==2.3.0) (2.10.0)\n",
      "Requirement already satisfied: pyyaml in c:\\users\\vigne\\anaconda3\\envs\\tensorflow\\lib\\site-packages (from keras==2.3.0) (5.3.1)\n",
      "Requirement already satisfied: keras-preprocessing>=1.0.5 in c:\\users\\vigne\\anaconda3\\envs\\tensorflow\\lib\\site-packages (from keras==2.3.0) (1.1.0)\n"
     ]
    }
   ],
   "source": [
    "!pip install keras==2.3.0"
   ]
  },
  {
   "cell_type": "code",
   "execution_count": 4,
   "metadata": {},
   "outputs": [
    {
     "name": "stdout",
     "output_type": "stream",
     "text": [
      "Requirement already satisfied: opencv-python in c:\\users\\vigne\\anaconda3\\envs\\tensorflow\\lib\\site-packages (4.3.0.36)\n",
      "Requirement already satisfied: numpy>=1.14.5 in c:\\users\\vigne\\anaconda3\\envs\\tensorflow\\lib\\site-packages (from opencv-python) (1.18.5)\n"
     ]
    }
   ],
   "source": [
    "!pip install opencv-python"
   ]
  },
  {
   "cell_type": "code",
   "execution_count": 5,
   "metadata": {},
   "outputs": [],
   "source": [
    "import os, sys\n",
    "#import pandas as pd\n",
    "import numpy as np\n",
    "import cv2\n",
    "\n",
    "#import matplotlib as mpl\n",
    "#import matplotlib.pyplot as plt"
   ]
  },
  {
   "cell_type": "code",
   "execution_count": 6,
   "metadata": {},
   "outputs": [
    {
     "name": "stderr",
     "output_type": "stream",
     "text": [
      "Using TensorFlow backend.\n"
     ]
    }
   ],
   "source": [
    "import keras\n",
    "from keras.models import Sequential\n",
    "from keras.models import load_model\n",
    "from keras.layers import Dense, Dropout, Flatten\n",
    "from keras.layers import Conv2D, AveragePooling2D, MaxPooling2D\n",
    "from keras import backend as K"
   ]
  },
  {
   "cell_type": "code",
   "execution_count": 7,
   "metadata": {},
   "outputs": [],
   "source": [
    "#### \n",
    "# Modify the model_num according to the model to be used.\n",
    "####\n",
    "# 1 = PCA SVM\n",
    "# 2 = RandomForest\n",
    "# 3 = CNN\n",
    "\n",
    "import pickle as pk\n",
    "\n",
    "if model_num == 1:\n",
    "    # Load PCA SVM model\n",
    "    pca_model = pk.load(open(r\"C:\\Users\\vigne\\OneDrive\\Desktop\\adv_ds_project\\pca_model.pkl\",'rb'))\n",
    "    svm_model = pk.load(open(r\"C:\\Users\\vigne\\OneDrive\\Desktop\\adv_ds_project\\svm_pca_model.pkl\",'rb'))\n",
    "    # result_new = pca_reload .transform(X)\n",
    "elif model_num == 2:\n",
    "    # Load RandomForest model\n",
    "    rf_model = pk.load(open(r\"C:\\Users\\vigne\\OneDrive\\Desktop\\adv_ds_project\\rf_model.pkl\",'rb'))\n",
    "else:\n",
    "    # Load CNN model\n",
    "    cnn_model = load_model(r\"C:\\Users\\vigne\\OneDrive\\Desktop\\adv_ds_project\\CNN_model_014.model\")\n",
    "    #cnn_model = pk.load(open(r\"C:\\Users\\vigne\\OneDrive\\Desktop\\adv_ds_project\\cnn_model.pkl\",'rb'))"
   ]
  },
  {
   "cell_type": "code",
   "execution_count": 8,
   "metadata": {},
   "outputs": [],
   "source": [
    "# 0 = mask worn wrongly 1 = with mask  2 = without mask\n",
    "labels = {0:'Mask worn wrongly',1:'With mask',2:'Without mask'}\n",
    "colours = {0:(255,0,0),1:(0,255,0),2:(0,0,255)}\n",
    "size=100"
   ]
  },
  {
   "cell_type": "code",
   "execution_count": 9,
   "metadata": {},
   "outputs": [],
   "source": [
    "# Import face detector algorithm\n",
    "face_detector = cv2.CascadeClassifier(r\"C:\\Users\\vigne\\OneDrive\\Desktop\\adv_ds_project\\haarcascade_frontalface_default.xml\")"
   ]
  },
  {
   "cell_type": "code",
   "execution_count": 10,
   "metadata": {},
   "outputs": [],
   "source": [
    "src = cv2.VideoCapture(0)\n",
    "while(True):\n",
    "    ret,img = src.read()\n",
    "    img_gray = cv2.cvtColor(img,cv2.COLOR_BGR2GRAY)\n",
    "    faces = face_detector.detectMultiScale(img_gray,1.3,5)\n",
    "    \n",
    "    for x,y,width,height in faces:\n",
    "        \n",
    "        # Extract face\n",
    "        face = img_gray[y:y+height+20,x:x+width]\n",
    "        # Resize to 100 by 100\n",
    "        face_resized = cv2.resize(face,(size,size))\n",
    "        \n",
    "        # Reshape according to ML/DL\n",
    "        if model_num == 3:\n",
    "            face_resized = np.reshape(face_resized,(1, size, size, 1))           \n",
    "        else:   \n",
    "            face_resized = np.reshape(face_resized,(1,size*size))\n",
    "        \n",
    "        # Normalize\n",
    "        face_resized_norm = face_resized/255.0\n",
    "        \n",
    "        \n",
    "        if model_num == 1:\n",
    "            # PCA SVM model\n",
    "            face_resized_pca = pca_model.transform(face_resized_norm)\n",
    "            face_pred = svm_model.predict(face_resized_pca)[0]\n",
    "        elif model_num == 2:\n",
    "            # RandomForest model\n",
    "            face_pred  = rf_model.predict(face_resized_norm)[0]\n",
    "        else:\n",
    "            # CNN model\n",
    "            face_pred_0  = cnn_model.predict(face_resized_norm)\n",
    "            face_pred = np.argmax(face_pred_0, axis=1)[0]\n",
    "          \n",
    "        \n",
    "        # Draw coloured rectangle to indicate face detection & label\n",
    "        cv2.rectangle(img,(x,y),(x+width,y+height),colours[face_pred],2)\n",
    "        cv2.rectangle(img,(x,y-40),(x+width,y),colours[face_pred],-1)\n",
    "        cv2.putText(img,labels[face_pred],(x,y-10),cv2.FONT_HERSHEY_SIMPLEX,0.8,(255,255,255),2)\n",
    "        \n",
    "    cv2.imshow('LIVE',img)\n",
    "    exit = cv2.waitKey(1)\n",
    "    if (exit==27): # 27 == ACSII char for 'ESC'\n",
    "        break\n",
    "        \n",
    "cv2.destroyAllWindows()\n",
    "src.release()"
   ]
  },
  {
   "cell_type": "code",
   "execution_count": null,
   "metadata": {},
   "outputs": [],
   "source": []
  },
  {
   "cell_type": "code",
   "execution_count": null,
   "metadata": {},
   "outputs": [],
   "source": []
  },
  {
   "cell_type": "code",
   "execution_count": null,
   "metadata": {},
   "outputs": [],
   "source": []
  },
  {
   "cell_type": "code",
   "execution_count": null,
   "metadata": {},
   "outputs": [],
   "source": []
  }
 ],
 "metadata": {
  "kernelspec": {
   "display_name": "Tensorflow",
   "language": "python",
   "name": "tensorflow"
  },
  "language_info": {
   "codemirror_mode": {
    "name": "ipython",
    "version": 3
   },
   "file_extension": ".py",
   "mimetype": "text/x-python",
   "name": "python",
   "nbconvert_exporter": "python",
   "pygments_lexer": "ipython3",
   "version": "3.7.7"
  }
 },
 "nbformat": 4,
 "nbformat_minor": 4
}
