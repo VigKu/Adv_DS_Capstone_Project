{
 "cells": [
  {
   "cell_type": "code",
   "execution_count": null,
   "metadata": {},
   "outputs": [],
   "source": [
    "###########################################################################\n",
    "# I would like to acknowledge the authors of these task and images.\n",
    "# Kaggle problem: https://www.kaggle.com/andrewmvd/face-mask-detection\n",
    "# Source of the data: https://makeml.app/datasets/mask\n",
    "###########################################################################"
   ]
  },
  {
   "cell_type": "code",
   "execution_count": 1,
   "metadata": {},
   "outputs": [
    {
     "name": "stdout",
     "output_type": "stream",
     "text": [
      "Requirement already satisfied: pandas in c:\\users\\vigne\\anaconda3\\envs\\tensorflow\\lib\\site-packages (1.0.5)\n",
      "Requirement already satisfied: pytz>=2017.2 in c:\\users\\vigne\\anaconda3\\envs\\tensorflow\\lib\\site-packages (from pandas) (2020.1)\n",
      "Requirement already satisfied: python-dateutil>=2.6.1 in c:\\users\\vigne\\anaconda3\\envs\\tensorflow\\lib\\site-packages (from pandas) (2.8.1)\n",
      "Requirement already satisfied: numpy>=1.13.3 in c:\\users\\vigne\\anaconda3\\envs\\tensorflow\\lib\\site-packages (from pandas) (1.18.5)\n",
      "Requirement already satisfied: six>=1.5 in c:\\users\\vigne\\anaconda3\\envs\\tensorflow\\lib\\site-packages (from python-dateutil>=2.6.1->pandas) (1.15.0)\n"
     ]
    }
   ],
   "source": [
    "!pip install pandas"
   ]
  },
  {
   "cell_type": "code",
   "execution_count": 2,
   "metadata": {},
   "outputs": [
    {
     "name": "stdout",
     "output_type": "stream",
     "text": [
      "Requirement already satisfied: sklearn in c:\\users\\vigne\\anaconda3\\envs\\tensorflow\\lib\\site-packages (0.0)\n",
      "Requirement already satisfied: scikit-learn in c:\\users\\vigne\\anaconda3\\envs\\tensorflow\\lib\\site-packages (from sklearn) (0.23.1)\n",
      "Requirement already satisfied: numpy>=1.13.3 in c:\\users\\vigne\\anaconda3\\envs\\tensorflow\\lib\\site-packages (from scikit-learn->sklearn) (1.18.5)\n",
      "Requirement already satisfied: scipy>=0.19.1 in c:\\users\\vigne\\anaconda3\\envs\\tensorflow\\lib\\site-packages (from scikit-learn->sklearn) (1.4.1)\n",
      "Requirement already satisfied: threadpoolctl>=2.0.0 in c:\\users\\vigne\\anaconda3\\envs\\tensorflow\\lib\\site-packages (from scikit-learn->sklearn) (2.1.0)\n",
      "Requirement already satisfied: joblib>=0.11 in c:\\users\\vigne\\anaconda3\\envs\\tensorflow\\lib\\site-packages (from scikit-learn->sklearn) (0.16.0)\n"
     ]
    }
   ],
   "source": [
    "!pip install sklearn"
   ]
  },
  {
   "cell_type": "code",
   "execution_count": 3,
   "metadata": {},
   "outputs": [
    {
     "name": "stdout",
     "output_type": "stream",
     "text": [
      "Requirement already satisfied: matplotlib in c:\\users\\vigne\\anaconda3\\envs\\tensorflow\\lib\\site-packages (3.2.2)\n",
      "Requirement already satisfied: python-dateutil>=2.1 in c:\\users\\vigne\\anaconda3\\envs\\tensorflow\\lib\\site-packages (from matplotlib) (2.8.1)\n",
      "Requirement already satisfied: pyparsing!=2.0.4,!=2.1.2,!=2.1.6,>=2.0.1 in c:\\users\\vigne\\anaconda3\\envs\\tensorflow\\lib\\site-packages (from matplotlib) (2.4.7)\n",
      "Requirement already satisfied: numpy>=1.11 in c:\\users\\vigne\\anaconda3\\envs\\tensorflow\\lib\\site-packages (from matplotlib) (1.18.5)\n",
      "Requirement already satisfied: kiwisolver>=1.0.1 in c:\\users\\vigne\\anaconda3\\envs\\tensorflow\\lib\\site-packages (from matplotlib) (1.2.0)\n",
      "Requirement already satisfied: cycler>=0.10 in c:\\users\\vigne\\anaconda3\\envs\\tensorflow\\lib\\site-packages (from matplotlib) (0.10.0)\n",
      "Requirement already satisfied: six>=1.5 in c:\\users\\vigne\\anaconda3\\envs\\tensorflow\\lib\\site-packages (from python-dateutil>=2.1->matplotlib) (1.15.0)\n"
     ]
    }
   ],
   "source": [
    "!pip install matplotlib"
   ]
  },
  {
   "cell_type": "code",
   "execution_count": 4,
   "metadata": {},
   "outputs": [],
   "source": [
    "import os, sys\n",
    "import pandas as pd\n",
    "import numpy as np\n",
    "\n",
    "import matplotlib as mpl\n",
    "import matplotlib.pyplot as plt"
   ]
  },
  {
   "cell_type": "markdown",
   "metadata": {},
   "source": [
    "# 1. Import data\n"
   ]
  },
  {
   "cell_type": "code",
   "execution_count": 5,
   "metadata": {},
   "outputs": [
    {
     "data": {
      "text/plain": [
       "(4072, 100, 100)"
      ]
     },
     "execution_count": 5,
     "metadata": {},
     "output_type": "execute_result"
    }
   ],
   "source": [
    "face_list = np.load(r'C:\\Users\\vigne\\OneDrive\\Desktop\\adv_ds_project\\face_list_cnn.npy')\n",
    "face_list.shape"
   ]
  },
  {
   "cell_type": "code",
   "execution_count": 6,
   "metadata": {},
   "outputs": [
    {
     "data": {
      "text/html": [
       "<div>\n",
       "<style scoped>\n",
       "    .dataframe tbody tr th:only-of-type {\n",
       "        vertical-align: middle;\n",
       "    }\n",
       "\n",
       "    .dataframe tbody tr th {\n",
       "        vertical-align: top;\n",
       "    }\n",
       "\n",
       "    .dataframe thead th {\n",
       "        text-align: right;\n",
       "    }\n",
       "</style>\n",
       "<table border=\"1\" class=\"dataframe\">\n",
       "  <thead>\n",
       "    <tr style=\"text-align: right;\">\n",
       "      <th></th>\n",
       "      <th>Filename</th>\n",
       "      <th>ImgDim</th>\n",
       "      <th>Bndbox</th>\n",
       "      <th>ClassStr</th>\n",
       "      <th>label</th>\n",
       "      <th>0</th>\n",
       "      <th>1</th>\n",
       "      <th>2</th>\n",
       "    </tr>\n",
       "  </thead>\n",
       "  <tbody>\n",
       "    <tr>\n",
       "      <th>0</th>\n",
       "      <td>C:/Users/vigne/OneDrive/Desktop/adv_ds_project...</td>\n",
       "      <td>[512, 366]</td>\n",
       "      <td>[79, 109, 105, 142]</td>\n",
       "      <td>without_mask</td>\n",
       "      <td>2</td>\n",
       "      <td>0.0</td>\n",
       "      <td>0.0</td>\n",
       "      <td>1.0</td>\n",
       "    </tr>\n",
       "    <tr>\n",
       "      <th>1</th>\n",
       "      <td>C:/Users/vigne/OneDrive/Desktop/adv_ds_project...</td>\n",
       "      <td>[512, 366]</td>\n",
       "      <td>[185, 226, 100, 144]</td>\n",
       "      <td>with_mask</td>\n",
       "      <td>1</td>\n",
       "      <td>0.0</td>\n",
       "      <td>1.0</td>\n",
       "      <td>0.0</td>\n",
       "    </tr>\n",
       "    <tr>\n",
       "      <th>2</th>\n",
       "      <td>C:/Users/vigne/OneDrive/Desktop/adv_ds_project...</td>\n",
       "      <td>[512, 366]</td>\n",
       "      <td>[325, 360, 90, 141]</td>\n",
       "      <td>without_mask</td>\n",
       "      <td>2</td>\n",
       "      <td>0.0</td>\n",
       "      <td>0.0</td>\n",
       "      <td>1.0</td>\n",
       "    </tr>\n",
       "    <tr>\n",
       "      <th>3</th>\n",
       "      <td>C:/Users/vigne/OneDrive/Desktop/adv_ds_project...</td>\n",
       "      <td>[400, 156]</td>\n",
       "      <td>[321, 354, 34, 69]</td>\n",
       "      <td>with_mask</td>\n",
       "      <td>1</td>\n",
       "      <td>0.0</td>\n",
       "      <td>1.0</td>\n",
       "      <td>0.0</td>\n",
       "    </tr>\n",
       "    <tr>\n",
       "      <th>4</th>\n",
       "      <td>C:/Users/vigne/OneDrive/Desktop/adv_ds_project...</td>\n",
       "      <td>[400, 156]</td>\n",
       "      <td>[224, 261, 38, 73]</td>\n",
       "      <td>with_mask</td>\n",
       "      <td>1</td>\n",
       "      <td>0.0</td>\n",
       "      <td>1.0</td>\n",
       "      <td>0.0</td>\n",
       "    </tr>\n",
       "  </tbody>\n",
       "</table>\n",
       "</div>"
      ],
      "text/plain": [
       "                                            Filename      ImgDim  \\\n",
       "0  C:/Users/vigne/OneDrive/Desktop/adv_ds_project...  [512, 366]   \n",
       "1  C:/Users/vigne/OneDrive/Desktop/adv_ds_project...  [512, 366]   \n",
       "2  C:/Users/vigne/OneDrive/Desktop/adv_ds_project...  [512, 366]   \n",
       "3  C:/Users/vigne/OneDrive/Desktop/adv_ds_project...  [400, 156]   \n",
       "4  C:/Users/vigne/OneDrive/Desktop/adv_ds_project...  [400, 156]   \n",
       "\n",
       "                 Bndbox      ClassStr  label    0    1    2  \n",
       "0   [79, 109, 105, 142]  without_mask      2  0.0  0.0  1.0  \n",
       "1  [185, 226, 100, 144]     with_mask      1  0.0  1.0  0.0  \n",
       "2   [325, 360, 90, 141]  without_mask      2  0.0  0.0  1.0  \n",
       "3    [321, 354, 34, 69]     with_mask      1  0.0  1.0  0.0  \n",
       "4    [224, 261, 38, 73]     with_mask      1  0.0  1.0  0.0  "
      ]
     },
     "execution_count": 6,
     "metadata": {},
     "output_type": "execute_result"
    }
   ],
   "source": [
    "# Import combined_df from FeatureEngineering\n",
    "combined_df = pd.read_csv(r\"C:\\Users\\vigne\\OneDrive\\Desktop\\adv_ds_project\\combined_df_cnn.csv\",index_col=[0])\n",
    "combined_df.rename(columns={'0': 0, '1': 1, '2': 2 }, inplace=True)\n",
    "combined_df.head()"
   ]
  },
  {
   "cell_type": "markdown",
   "metadata": {},
   "source": [
    "# 2. Train test split data"
   ]
  },
  {
   "cell_type": "code",
   "execution_count": 7,
   "metadata": {},
   "outputs": [],
   "source": [
    "# Reshape image data from 3 dimensions to 2 dimensions\n",
    "size=face_list.shape[1]\n",
    "X = np.reshape(face_list, (face_list.shape[0],size,size))\n",
    "Y = combined_df[[0,1,2]]"
   ]
  },
  {
   "cell_type": "code",
   "execution_count": 8,
   "metadata": {},
   "outputs": [
    {
     "data": {
      "text/plain": [
       "(4072, 3)"
      ]
     },
     "execution_count": 8,
     "metadata": {},
     "output_type": "execute_result"
    }
   ],
   "source": [
    "Y.shape"
   ]
  },
  {
   "cell_type": "code",
   "execution_count": 9,
   "metadata": {},
   "outputs": [
    {
     "data": {
      "text/plain": [
       "(4072, 100, 100)"
      ]
     },
     "execution_count": 9,
     "metadata": {},
     "output_type": "execute_result"
    }
   ],
   "source": [
    "X.shape"
   ]
  },
  {
   "cell_type": "code",
   "execution_count": 10,
   "metadata": {},
   "outputs": [
    {
     "name": "stdout",
     "output_type": "stream",
     "text": [
      "Training face_list and label sizes: \n",
      "(3664, 100, 100), (3664, 3)\n",
      "Test face_list and label sizes: \n",
      "(408, 100, 100), (408, 3)\n"
     ]
    }
   ],
   "source": [
    "from sklearn.model_selection import train_test_split\n",
    "x_train, x_validate, y_train, y_validate = train_test_split(X, Y, test_size=0.1, random_state=0)\n",
    "print('Training face_list and label sizes: \\n{}, {}'.format(x_train.shape,y_train.shape))\n",
    "print('Test face_list and label sizes: \\n{}, {}'.format(x_validate.shape,y_validate.shape))"
   ]
  },
  {
   "cell_type": "markdown",
   "metadata": {},
   "source": [
    "# 3. CNN modelling"
   ]
  },
  {
   "cell_type": "code",
   "execution_count": 11,
   "metadata": {},
   "outputs": [
    {
     "name": "stdout",
     "output_type": "stream",
     "text": [
      "Requirement already satisfied: tensorflow==2.0 in c:\\users\\vigne\\anaconda3\\envs\\tensorflow\\lib\\site-packages (2.0.0)\n",
      "Requirement already satisfied: opt-einsum>=2.3.2 in c:\\users\\vigne\\anaconda3\\envs\\tensorflow\\lib\\site-packages (from tensorflow==2.0) (3.1.0)\n",
      "Requirement already satisfied: wheel>=0.26 in c:\\users\\vigne\\anaconda3\\envs\\tensorflow\\lib\\site-packages (from tensorflow==2.0) (0.34.2)\n",
      "Requirement already satisfied: numpy<2.0,>=1.16.0 in c:\\users\\vigne\\anaconda3\\envs\\tensorflow\\lib\\site-packages (from tensorflow==2.0) (1.18.5)\n",
      "Requirement already satisfied: keras-preprocessing>=1.0.5 in c:\\users\\vigne\\anaconda3\\envs\\tensorflow\\lib\\site-packages (from tensorflow==2.0) (1.1.0)\n",
      "Requirement already satisfied: gast==0.2.2 in c:\\users\\vigne\\anaconda3\\envs\\tensorflow\\lib\\site-packages (from tensorflow==2.0) (0.2.2)\n",
      "Requirement already satisfied: six>=1.10.0 in c:\\users\\vigne\\anaconda3\\envs\\tensorflow\\lib\\site-packages (from tensorflow==2.0) (1.15.0)\n",
      "Requirement already satisfied: tensorboard<2.1.0,>=2.0.0 in c:\\users\\vigne\\anaconda3\\envs\\tensorflow\\lib\\site-packages (from tensorflow==2.0) (2.0.2)\n",
      "Requirement already satisfied: tensorflow-estimator<2.1.0,>=2.0.0 in c:\\users\\vigne\\anaconda3\\envs\\tensorflow\\lib\\site-packages (from tensorflow==2.0) (2.0.1)\n",
      "Requirement already satisfied: termcolor>=1.1.0 in c:\\users\\vigne\\anaconda3\\envs\\tensorflow\\lib\\site-packages (from tensorflow==2.0) (1.1.0)\n",
      "Requirement already satisfied: grpcio>=1.8.6 in c:\\users\\vigne\\anaconda3\\envs\\tensorflow\\lib\\site-packages (from tensorflow==2.0) (1.27.2)\n",
      "Requirement already satisfied: wrapt>=1.11.1 in c:\\users\\vigne\\anaconda3\\envs\\tensorflow\\lib\\site-packages (from tensorflow==2.0) (1.12.1)\n",
      "Requirement already satisfied: protobuf>=3.6.1 in c:\\users\\vigne\\anaconda3\\envs\\tensorflow\\lib\\site-packages (from tensorflow==2.0) (3.12.3)\n",
      "Requirement already satisfied: google-pasta>=0.1.6 in c:\\users\\vigne\\anaconda3\\envs\\tensorflow\\lib\\site-packages (from tensorflow==2.0) (0.2.0)\n",
      "Requirement already satisfied: keras-applications>=1.0.8 in c:\\users\\vigne\\anaconda3\\envs\\tensorflow\\lib\\site-packages (from tensorflow==2.0) (1.0.8)\n",
      "Requirement already satisfied: absl-py>=0.7.0 in c:\\users\\vigne\\anaconda3\\envs\\tensorflow\\lib\\site-packages (from tensorflow==2.0) (0.9.0)\n",
      "Requirement already satisfied: astor>=0.6.0 in c:\\users\\vigne\\anaconda3\\envs\\tensorflow\\lib\\site-packages (from tensorflow==2.0) (0.8.0)\n",
      "Requirement already satisfied: requests<3,>=2.21.0 in c:\\users\\vigne\\anaconda3\\envs\\tensorflow\\lib\\site-packages (from tensorboard<2.1.0,>=2.0.0->tensorflow==2.0) (2.24.0)\n",
      "Requirement already satisfied: setuptools>=41.0.0 in c:\\users\\vigne\\anaconda3\\envs\\tensorflow\\lib\\site-packages (from tensorboard<2.1.0,>=2.0.0->tensorflow==2.0) (49.1.0.post20200710)\n",
      "Requirement already satisfied: google-auth-oauthlib<0.5,>=0.4.1 in c:\\users\\vigne\\anaconda3\\envs\\tensorflow\\lib\\site-packages (from tensorboard<2.1.0,>=2.0.0->tensorflow==2.0) (0.4.1)\n",
      "Requirement already satisfied: google-auth<2,>=1.6.3 in c:\\users\\vigne\\anaconda3\\envs\\tensorflow\\lib\\site-packages (from tensorboard<2.1.0,>=2.0.0->tensorflow==2.0) (1.17.2)\n",
      "Requirement already satisfied: markdown>=2.6.8 in c:\\users\\vigne\\anaconda3\\envs\\tensorflow\\lib\\site-packages (from tensorboard<2.1.0,>=2.0.0->tensorflow==2.0) (3.1.1)\n",
      "Requirement already satisfied: werkzeug>=0.11.15 in c:\\users\\vigne\\anaconda3\\envs\\tensorflow\\lib\\site-packages (from tensorboard<2.1.0,>=2.0.0->tensorflow==2.0) (0.16.1)\n",
      "Requirement already satisfied: h5py in c:\\users\\vigne\\anaconda3\\envs\\tensorflow\\lib\\site-packages (from keras-applications>=1.0.8->tensorflow==2.0) (2.10.0)\n",
      "Requirement already satisfied: idna<3,>=2.5 in c:\\users\\vigne\\anaconda3\\envs\\tensorflow\\lib\\site-packages (from requests<3,>=2.21.0->tensorboard<2.1.0,>=2.0.0->tensorflow==2.0) (2.10)\n",
      "Requirement already satisfied: urllib3!=1.25.0,!=1.25.1,<1.26,>=1.21.1 in c:\\users\\vigne\\anaconda3\\envs\\tensorflow\\lib\\site-packages (from requests<3,>=2.21.0->tensorboard<2.1.0,>=2.0.0->tensorflow==2.0) (1.25.9)\n",
      "Requirement already satisfied: chardet<4,>=3.0.2 in c:\\users\\vigne\\anaconda3\\envs\\tensorflow\\lib\\site-packages (from requests<3,>=2.21.0->tensorboard<2.1.0,>=2.0.0->tensorflow==2.0) (3.0.4)\n",
      "Requirement already satisfied: certifi>=2017.4.17 in c:\\users\\vigne\\anaconda3\\envs\\tensorflow\\lib\\site-packages (from requests<3,>=2.21.0->tensorboard<2.1.0,>=2.0.0->tensorflow==2.0) (2020.6.20)\n",
      "Requirement already satisfied: requests-oauthlib>=0.7.0 in c:\\users\\vigne\\anaconda3\\envs\\tensorflow\\lib\\site-packages (from google-auth-oauthlib<0.5,>=0.4.1->tensorboard<2.1.0,>=2.0.0->tensorflow==2.0) (1.3.0)\n",
      "Requirement already satisfied: rsa<5,>=3.1.4; python_version >= \"3\" in c:\\users\\vigne\\anaconda3\\envs\\tensorflow\\lib\\site-packages (from google-auth<2,>=1.6.3->tensorboard<2.1.0,>=2.0.0->tensorflow==2.0) (4.0)\n",
      "Requirement already satisfied: pyasn1-modules>=0.2.1 in c:\\users\\vigne\\anaconda3\\envs\\tensorflow\\lib\\site-packages (from google-auth<2,>=1.6.3->tensorboard<2.1.0,>=2.0.0->tensorflow==2.0) (0.2.7)\n",
      "Requirement already satisfied: cachetools<5.0,>=2.0.0 in c:\\users\\vigne\\anaconda3\\envs\\tensorflow\\lib\\site-packages (from google-auth<2,>=1.6.3->tensorboard<2.1.0,>=2.0.0->tensorflow==2.0) (4.1.0)\n",
      "Requirement already satisfied: oauthlib>=3.0.0 in c:\\users\\vigne\\anaconda3\\envs\\tensorflow\\lib\\site-packages (from requests-oauthlib>=0.7.0->google-auth-oauthlib<0.5,>=0.4.1->tensorboard<2.1.0,>=2.0.0->tensorflow==2.0) (3.1.0)\n",
      "Requirement already satisfied: pyasn1>=0.1.3 in c:\\users\\vigne\\anaconda3\\envs\\tensorflow\\lib\\site-packages (from rsa<5,>=3.1.4; python_version >= \"3\"->google-auth<2,>=1.6.3->tensorboard<2.1.0,>=2.0.0->tensorflow==2.0) (0.4.8)\n"
     ]
    }
   ],
   "source": [
    "!pip install tensorflow==2.0"
   ]
  },
  {
   "cell_type": "code",
   "execution_count": 12,
   "metadata": {},
   "outputs": [
    {
     "name": "stdout",
     "output_type": "stream",
     "text": [
      "Requirement already satisfied: keras==2.3.0 in c:\\users\\vigne\\anaconda3\\envs\\tensorflow\\lib\\site-packages (2.3.0)\n",
      "Requirement already satisfied: six>=1.9.0 in c:\\users\\vigne\\anaconda3\\envs\\tensorflow\\lib\\site-packages (from keras==2.3.0) (1.15.0)\n",
      "Requirement already satisfied: numpy>=1.9.1 in c:\\users\\vigne\\anaconda3\\envs\\tensorflow\\lib\\site-packages (from keras==2.3.0) (1.18.5)\n",
      "Requirement already satisfied: keras-applications>=1.0.6 in c:\\users\\vigne\\anaconda3\\envs\\tensorflow\\lib\\site-packages (from keras==2.3.0) (1.0.8)\n",
      "Requirement already satisfied: keras-preprocessing>=1.0.5 in c:\\users\\vigne\\anaconda3\\envs\\tensorflow\\lib\\site-packages (from keras==2.3.0) (1.1.0)\n",
      "Requirement already satisfied: scipy>=0.14 in c:\\users\\vigne\\anaconda3\\envs\\tensorflow\\lib\\site-packages (from keras==2.3.0) (1.4.1)\n",
      "Requirement already satisfied: h5py in c:\\users\\vigne\\anaconda3\\envs\\tensorflow\\lib\\site-packages (from keras==2.3.0) (2.10.0)\n",
      "Requirement already satisfied: pyyaml in c:\\users\\vigne\\anaconda3\\envs\\tensorflow\\lib\\site-packages (from keras==2.3.0) (5.3.1)\n"
     ]
    }
   ],
   "source": [
    "!pip install keras==2.3.0"
   ]
  },
  {
   "cell_type": "code",
   "execution_count": 13,
   "metadata": {},
   "outputs": [],
   "source": [
    "###\n",
    "#import tensorflow as tf\n",
    "#if not tf.__version__ == '2.0':\n",
    "#    print(tf.__version__)\n",
    "#    raise ValueError('please upgrade to TensorFlow 2.0.0, or restart your Kernel (Kernel->Restart & Clear Output)')"
   ]
  },
  {
   "cell_type": "code",
   "execution_count": 14,
   "metadata": {},
   "outputs": [],
   "source": [
    "from sklearn.preprocessing import LabelEncoder\n",
    "from sklearn.model_selection import train_test_split\n",
    "from sklearn.metrics import classification_report"
   ]
  },
  {
   "cell_type": "code",
   "execution_count": 15,
   "metadata": {},
   "outputs": [
    {
     "name": "stderr",
     "output_type": "stream",
     "text": [
      "Using TensorFlow backend.\n"
     ]
    }
   ],
   "source": [
    "\n",
    "from __future__ import print_function\n",
    "import keras\n",
    "from keras.models import Sequential\n",
    "from keras.layers import Dense, Dropout, Flatten\n",
    "from keras.layers import Conv2D, AveragePooling2D, MaxPooling2D\n",
    "from keras import backend as K\n"
   ]
  },
  {
   "cell_type": "code",
   "execution_count": 16,
   "metadata": {},
   "outputs": [],
   "source": [
    "#batch_size = 64\n",
    "num_classes = 3\n",
    "epochs = 30\n",
    "\n",
    "# input image dimensions\n",
    "img_rows, img_cols = size, size\n",
    "\n",
    "if K.image_data_format() == 'channels_first':\n",
    "    x_train =np.reshape(x_train,(x_train.shape[0], 1, img_rows, img_cols))\n",
    "    x_validate = np.reshape(x_validate,(x_validate.shape[0], 1, img_rows, img_cols))\n",
    "    input_shape = (1, img_rows, img_cols)\n",
    "else:\n",
    "    x_train = np.reshape(x_train,(x_train.shape[0], img_rows, img_cols, 1))\n",
    "    x_validate = np.reshape(x_validate,(x_validate.shape[0], img_rows, img_cols, 1))\n",
    "    input_shape = (img_rows, img_cols, 1)\n",
    "    "
   ]
  },
  {
   "cell_type": "code",
   "execution_count": 17,
   "metadata": {},
   "outputs": [],
   "source": [
    "#Please construct the following neural network and report accuracy after training\n",
    "#Layer 1: 2D Convolution with 32 hidden neurons, kernel 3 by 3, relu activation, kernel as glorot norm weights\n",
    "#Layer 2: 2D MaxPooling, pool_size 2 by 2\n",
    "#Layer 3: 2D Convolution with 64 hidden neurons, kernel 3 by 3, relu activation, kernel as glorot norm weights \n",
    "#Layer 4: 2D MaxPooling, pool_size 2 by 2\n",
    "#Layer 5: 25% Dropout\n",
    "#Layer 6: Flatten (Hint: model.add(Flatten()))\n",
    "#Layer 7: Fully connected layer with 128 neurons, relu activation\n",
    "#Layer 8: 50% Dropout\n",
    "#Layer 9 Softmax Output Layer according to the problem (output vector)\n",
    "\n",
    "\n",
    "model = Sequential()\n",
    "model.add(Conv2D(32, kernel_size=(3, 3),activation='relu',input_shape=input_shape, kernel_initializer='glorot_normal'))\n",
    "model.add(MaxPooling2D(pool_size=(2, 2)))\n",
    "model.add(Conv2D(64, (3, 3),activation='relu', kernel_initializer='glorot_normal'))\n",
    "model.add(MaxPooling2D(pool_size=(2, 2)))\n",
    "model.add(Dropout(0.25))\n",
    "model.add(Flatten())\n",
    "model.add(Dense(128,activation='relu'))\n",
    "model.add(Dropout(0.5))\n",
    "model.add(Dense(3,activation='softmax'))\n"
   ]
  },
  {
   "cell_type": "code",
   "execution_count": 18,
   "metadata": {},
   "outputs": [],
   "source": [
    "from keras.callbacks import ModelCheckpoint"
   ]
  },
  {
   "cell_type": "code",
   "execution_count": 19,
   "metadata": {},
   "outputs": [
    {
     "name": "stdout",
     "output_type": "stream",
     "text": [
      "Train on 3664 samples, validate on 408 samples\n",
      "Epoch 1/30\n",
      "3664/3664 [==============================] - 32s 9ms/step - loss: 0.5931 - accuracy: 0.7863 - val_loss: 0.4742 - val_accuracy: 0.7941\n",
      "Epoch 2/30\n",
      "3664/3664 [==============================] - 31s 9ms/step - loss: 0.4587 - accuracy: 0.8084 - val_loss: 0.5114 - val_accuracy: 0.8186\n",
      "Epoch 3/30\n",
      "3664/3664 [==============================] - 32s 9ms/step - loss: 0.4143 - accuracy: 0.8382 - val_loss: 0.4079 - val_accuracy: 0.8456\n",
      "Epoch 4/30\n",
      "3664/3664 [==============================] - 32s 9ms/step - loss: 0.3887 - accuracy: 0.8540 - val_loss: 0.3799 - val_accuracy: 0.8505\n",
      "Epoch 5/30\n",
      "3664/3664 [==============================] - 27s 7ms/step - loss: 0.3446 - accuracy: 0.8728 - val_loss: 0.3255 - val_accuracy: 0.8725\n",
      "Epoch 6/30\n",
      "3664/3664 [==============================] - 19s 5ms/step - loss: 0.3317 - accuracy: 0.8769 - val_loss: 0.3365 - val_accuracy: 0.8848\n",
      "Epoch 7/30\n",
      "3664/3664 [==============================] - 19s 5ms/step - loss: 0.3198 - accuracy: 0.8810 - val_loss: 0.2902 - val_accuracy: 0.8922\n",
      "Epoch 8/30\n",
      "3664/3664 [==============================] - 19s 5ms/step - loss: 0.2935 - accuracy: 0.8840 - val_loss: 0.3219 - val_accuracy: 0.8848\n",
      "Epoch 9/30\n",
      "3664/3664 [==============================] - 19s 5ms/step - loss: 0.2766 - accuracy: 0.8949 - val_loss: 0.3406 - val_accuracy: 0.8456\n",
      "Epoch 10/30\n",
      "3664/3664 [==============================] - 19s 5ms/step - loss: 0.2683 - accuracy: 0.9026 - val_loss: 0.3049 - val_accuracy: 0.9044\n",
      "Epoch 11/30\n",
      "3664/3664 [==============================] - 19s 5ms/step - loss: 0.2593 - accuracy: 0.9037 - val_loss: 0.2901 - val_accuracy: 0.9069\n",
      "Epoch 12/30\n",
      "3664/3664 [==============================] - 19s 5ms/step - loss: 0.2401 - accuracy: 0.9069 - val_loss: 0.3044 - val_accuracy: 0.8848\n",
      "Epoch 13/30\n",
      "3664/3664 [==============================] - 19s 5ms/step - loss: 0.2338 - accuracy: 0.9069 - val_loss: 0.3007 - val_accuracy: 0.8971\n",
      "Epoch 14/30\n",
      "3664/3664 [==============================] - 20s 5ms/step - loss: 0.2254 - accuracy: 0.9173 - val_loss: 0.2798 - val_accuracy: 0.9020\n",
      "Epoch 15/30\n",
      "3664/3664 [==============================] - 20s 5ms/step - loss: 0.2219 - accuracy: 0.9198 - val_loss: 0.3178 - val_accuracy: 0.8725\n",
      "Epoch 16/30\n",
      "3664/3664 [==============================] - 19s 5ms/step - loss: 0.2003 - accuracy: 0.9225 - val_loss: 0.3472 - val_accuracy: 0.8848\n",
      "Epoch 17/30\n",
      "3664/3664 [==============================] - 20s 5ms/step - loss: 0.1892 - accuracy: 0.9307 - val_loss: 0.3499 - val_accuracy: 0.8848\n",
      "Epoch 18/30\n",
      "3664/3664 [==============================] - 20s 5ms/step - loss: 0.1877 - accuracy: 0.9326 - val_loss: 0.3150 - val_accuracy: 0.8897\n",
      "Epoch 19/30\n",
      "3664/3664 [==============================] - 20s 5ms/step - loss: 0.1707 - accuracy: 0.9367 - val_loss: 0.3142 - val_accuracy: 0.8971\n",
      "Epoch 20/30\n",
      "3664/3664 [==============================] - 20s 5ms/step - loss: 0.1617 - accuracy: 0.9397 - val_loss: 0.3622 - val_accuracy: 0.8922\n",
      "Epoch 21/30\n",
      "3664/3664 [==============================] - 20s 5ms/step - loss: 0.1632 - accuracy: 0.9408 - val_loss: 0.3251 - val_accuracy: 0.8946\n",
      "Epoch 22/30\n",
      "3664/3664 [==============================] - 20s 5ms/step - loss: 0.1405 - accuracy: 0.9476 - val_loss: 0.3059 - val_accuracy: 0.9069\n",
      "Epoch 23/30\n",
      "3664/3664 [==============================] - 20s 5ms/step - loss: 0.1359 - accuracy: 0.9541 - val_loss: 0.3612 - val_accuracy: 0.8922\n",
      "Epoch 24/30\n",
      "3664/3664 [==============================] - 20s 5ms/step - loss: 0.1229 - accuracy: 0.9539 - val_loss: 0.4150 - val_accuracy: 0.8897\n",
      "Epoch 25/30\n",
      "3664/3664 [==============================] - 20s 5ms/step - loss: 0.1243 - accuracy: 0.9550 - val_loss: 0.3483 - val_accuracy: 0.8946\n",
      "Epoch 26/30\n",
      "3664/3664 [==============================] - 20s 5ms/step - loss: 0.1130 - accuracy: 0.9593 - val_loss: 0.3625 - val_accuracy: 0.8946\n",
      "Epoch 27/30\n",
      "3664/3664 [==============================] - 20s 5ms/step - loss: 0.1113 - accuracy: 0.9629 - val_loss: 0.3726 - val_accuracy: 0.9093\n",
      "Epoch 28/30\n",
      "3664/3664 [==============================] - 21s 6ms/step - loss: 0.0988 - accuracy: 0.9648 - val_loss: 0.4211 - val_accuracy: 0.8946\n",
      "Epoch 29/30\n",
      "3664/3664 [==============================] - 20s 5ms/step - loss: 0.0962 - accuracy: 0.9642 - val_loss: 0.4478 - val_accuracy: 0.8971\n",
      "Epoch 30/30\n",
      "3664/3664 [==============================] - 20s 5ms/step - loss: 0.0870 - accuracy: 0.9670 - val_loss: 0.3782 - val_accuracy: 0.9118\n"
     ]
    }
   ],
   "source": [
    "model.compile(loss=keras.losses.categorical_crossentropy,\n",
    "              optimizer=keras.optimizers.Adadelta(),\n",
    "              metrics=['accuracy'])\n",
    "\n",
    "checkpoint = ModelCheckpoint('CNN_model_{epoch:03d}.model',monitor = 'val_loss',verbose = 0, save_best_only = True, mode = 'auto')\n",
    "\n",
    "history = model.fit(x_train, y_train,\n",
    "                      callbacks=[checkpoint],\n",
    "                      validation_data=(x_validate, y_validate),\n",
    "                      verbose=1,\n",
    "                      epochs=30)\n"
   ]
  },
  {
   "cell_type": "code",
   "execution_count": 20,
   "metadata": {},
   "outputs": [],
   "source": [
    "#model.save(r'C:\\Users\\vigne\\anaconda3\\envs\\Tensorflow\\adv_ds_project\\CNN_model_020.model')"
   ]
  },
  {
   "cell_type": "code",
   "execution_count": 21,
   "metadata": {},
   "outputs": [
    {
     "data": {
      "image/png": "[encoded data removed]",
      "text/plain": [
       "<Figure size 432x288 with 1 Axes>"
      ]
     },
     "metadata": {
      "needs_background": "light"
     },
     "output_type": "display_data"
    }
   ],
   "source": [
    "plt.plot(history.history['loss'], 'r', label = 'training loss')\n",
    "plt.plot(history.history['val_loss'], 'b', label = 'validation loss')\n",
    "plt.xlabel('no. of epochs')\n",
    "plt.ylabel('loss')\n",
    "plt.legend()\n",
    "plt.show()"
   ]
  },
  {
   "cell_type": "code",
   "execution_count": 22,
   "metadata": {},
   "outputs": [
    {
     "data": {
      "image/png": "[encoded data removed]",
      "text/plain": [
       "<Figure size 432x288 with 1 Axes>"
      ]
     },
     "metadata": {
      "needs_background": "light"
     },
     "output_type": "display_data"
    }
   ],
   "source": [
    "plt.plot(history.history['accuracy'], 'r', label = 'training accuracy')\n",
    "plt.plot(history.history['val_accuracy'], 'b', label = 'validation accuracy')\n",
    "plt.xlabel('no. of epochs')\n",
    "plt.ylabel('accuracy')\n",
    "plt.legend()\n",
    "plt.show()"
   ]
  },
  {
   "cell_type": "markdown",
   "metadata": {},
   "source": [
    "# 5. Evaluation - Confusion Matrix"
   ]
  },
  {
   "cell_type": "code",
   "execution_count": 38,
   "metadata": {},
   "outputs": [
    {
     "name": "stdout",
     "output_type": "stream",
     "text": [
      "Evaluate using confusion matrix\n",
      "Classification report for cnn_model <keras.engine.sequential.Sequential object at 0x00000248FF6AB848>:\n",
      "              precision    recall  f1-score   support\n",
      "\n",
      "           0       0.43      0.25      0.32        12\n",
      "           1       0.95      0.95      0.95       324\n",
      "           2       0.79      0.85      0.82        72\n",
      "\n",
      "    accuracy                           0.91       408\n",
      "   macro avg       0.72      0.68      0.70       408\n",
      "weighted avg       0.91      0.91      0.91       408\n",
      "\n",
      "\n"
     ]
    }
   ],
   "source": [
    "\n",
    "from keras.models import load_model\n",
    "model = load_model(r\"C:\\Users\\vigne\\OneDrive\\Desktop\\adv_ds_project\\CNN_model_014.model\")\n",
    "\n",
    "\n",
    "print(\"Evaluate using confusion matrix\")\n",
    "y_pred = model.predict(x_validate)\n",
    "\n",
    "# for each image in the validation set we need to find the index of the\n",
    "# label with corresponding largest predicted probability\n",
    "### One hot encoding to single digit label\n",
    "y_pred = np.argmax(y_pred, axis=1)\n",
    "\n",
    "y1 = y_validate.idxmax(axis=1)\n",
    "y1 = y1.values\n",
    "\n",
    "# Compare predicted and expected values\n",
    "from sklearn import metrics\n",
    "print(\"Classification report for cnn_model %s:\\n%s\\n\"\n",
    "      % (model, metrics.classification_report(y1, y_pred)))"
   ]
  },
  {
   "cell_type": "code",
   "execution_count": null,
   "metadata": {},
   "outputs": [],
   "source": [
    "# 0 = mask worn wrongly 1 = with mask  2 = without mask\n"
   ]
  },
  {
   "cell_type": "markdown",
   "metadata": {},
   "source": [
    "### Visualization - True Positives v.s. False Positives"
   ]
  },
  {
   "cell_type": "code",
   "execution_count": 39,
   "metadata": {},
   "outputs": [
    {
     "data": {
      "text/plain": [
       "array([[  3,   6,   3],\n",
       "       [  3, 308,  13],\n",
       "       [  1,  10,  61]], dtype=int64)"
      ]
     },
     "execution_count": 39,
     "metadata": {},
     "output_type": "execute_result"
    }
   ],
   "source": [
    "from sklearn.metrics import confusion_matrix\n",
    "cf = confusion_matrix(y1, y_pred)\n",
    "cf #cf[actu][pred]\n",
    "# pred 0 1 2\n",
    "# actu\n",
    "# 0\n",
    "# 1\n",
    "# 2"
   ]
  },
  {
   "cell_type": "code",
   "execution_count": 40,
   "metadata": {},
   "outputs": [
    {
     "data": {
      "image/png": "[encoded data removed]",
      "text/plain": [
       "<Figure size 432x288 with 1 Axes>"
      ]
     },
     "metadata": {
      "needs_background": "light"
     },
     "output_type": "display_data"
    }
   ],
   "source": [
    "# segregate images with actual labels = 1 when prediction = 1 \n",
    "img_with_mask1 = cf[1][1]\n",
    "# segregate images with actual labels = 0 when prediction = 1 \n",
    "img_worn_wrongly1 = cf[0][1]\n",
    "# segregate images with actual labels = 2 when prediction = 1 \n",
    "img_without_mask1 = cf[2][1]\n",
    "\n",
    "# Find % of images predicted to be 1\n",
    "t1 = img_with_mask1 + img_worn_wrongly1 + img_without_mask1\n",
    "p1 = round(img_with_mask1/t1*100)\n",
    "p0 = round(img_worn_wrongly1/t1*100)\n",
    "p2 = 100-p1-p0\n",
    "\n",
    "\n",
    "plt.bar([\"with mask-\"+str(p1)+\"%\",\"mask worn wrongly-\"+str(p0)+\"%\",\"without mask-\"+str(p2)+\"%\"],[img_with_mask1,img_worn_wrongly1,img_without_mask1])\n",
    "plt.title(\"Number of masks per category predicted as with mask\")\n",
    "plt.ylabel(\"Number of masks\")\n",
    "plt.show()"
   ]
  },
  {
   "cell_type": "code",
   "execution_count": 41,
   "metadata": {},
   "outputs": [
    {
     "data": {
      "image/png": "[encoded data removed]",
      "text/plain": [
       "<Figure size 432x288 with 1 Axes>"
      ]
     },
     "metadata": {
      "needs_background": "light"
     },
     "output_type": "display_data"
    }
   ],
   "source": [
    "# segregate images with actual labels = 1 when prediction = 0 \n",
    "img_with_mask0 = cf[1][0]\n",
    "# segregate images with actual labels = 0 when prediction = 0 \n",
    "img_worn_wrongly0 = cf[0][0]\n",
    "# segregate images with actual labels = 2 when prediction = 0 \n",
    "img_without_mask0 = cf[2][0]\n",
    "\n",
    "# Find % of images predicted to be 0\n",
    "t0 = img_with_mask0 + img_worn_wrongly0 + img_without_mask0\n",
    "p1 = round(img_with_mask0/t0*100)\n",
    "p0 = round(img_worn_wrongly0/t0*100)\n",
    "p2 = 100-p1-p0\n",
    "\n",
    "\n",
    "plt.bar([\"with mask-\"+str(p1)+\"%\",\"mask worn wrongly-\"+str(p0)+\"%\",\"without mask-\"+str(p2)+\"%\"],[img_with_mask0,img_worn_wrongly0,img_without_mask0])\n",
    "plt.title(\"Number of masks per category predicted as mask worn wrongly\")\n",
    "plt.ylabel(\"Number of masks\")\n",
    "plt.show()"
   ]
  },
  {
   "cell_type": "code",
   "execution_count": 42,
   "metadata": {},
   "outputs": [
    {
     "data": {
      "image/png": "[encoded data removed]",
      "text/plain": [
       "<Figure size 432x288 with 1 Axes>"
      ]
     },
     "metadata": {
      "needs_background": "light"
     },
     "output_type": "display_data"
    }
   ],
   "source": [
    "# segregate images with actual labels = 1 when prediction = 2\n",
    "img_with_mask2 = cf[1][2]\n",
    "# segregate images with actual labels = 0 when prediction = 2 \n",
    "img_worn_wrongly2 = cf[0][2]\n",
    "# segregate images with actual labels = 2 when prediction = 2 \n",
    "img_without_mask2 = cf[2][2]\n",
    "\n",
    "# Find % of images predicted to be 2\n",
    "t2 = img_with_mask2 + img_worn_wrongly2 + img_without_mask2\n",
    "p1 = round(img_with_mask2/t2*100)\n",
    "p0 = round(img_worn_wrongly2/t2*100)\n",
    "p2 = 100-p1-p0\n",
    "\n",
    "\n",
    "plt.bar([\"with mask-\"+str(p1)+\"%\",\"mask worn wrongly-\"+str(p0)+\"%\",\"without mask-\"+str(p2)+\"%\"],[img_with_mask2,img_worn_wrongly2,img_without_mask2])\n",
    "plt.title(\"Number of masks per category predicted as without mask\")\n",
    "plt.ylabel(\"Number of masks\")\n",
    "plt.show()"
   ]
  },
  {
   "cell_type": "markdown",
   "metadata": {},
   "source": [
    "### Visualization - True Positives v.s. False Negatives"
   ]
  },
  {
   "cell_type": "code",
   "execution_count": 43,
   "metadata": {},
   "outputs": [
    {
     "data": {
      "image/png": "[encoded data removed]",
      "text/plain": [
       "<Figure size 432x288 with 1 Axes>"
      ]
     },
     "metadata": {},
     "output_type": "display_data"
    }
   ],
   "source": [
    "# Prediction of images with actuals labels = 1 (with mask)\n",
    "\n",
    "# Data to plot\n",
    "pred_labels = ['with mask', 'mask worn wrongly', 'without mask']\n",
    "sizes = [img_with_mask1, img_with_mask0, img_with_mask2]\n",
    "colors = ['gold', 'yellowgreen', 'lightcoral']\n",
    "\n",
    "# Plot\n",
    "plt.pie(sizes, labels=pred_labels, colors=colors, autopct='%1.0f%%', shadow=False, startangle=140)\n",
    "plt.title(\"Prediction of masks actually labelled as with mask\")\n",
    "\n",
    "plt.axis('equal')\n",
    "plt.show()"
   ]
  },
  {
   "cell_type": "code",
   "execution_count": 44,
   "metadata": {},
   "outputs": [
    {
     "data": {
      "image/png": "[encoded data removed]",
      "text/plain": [
       "<Figure size 432x288 with 1 Axes>"
      ]
     },
     "metadata": {},
     "output_type": "display_data"
    }
   ],
   "source": [
    "# Prediction of images with actuals labels = 0 (mask worn wrongly)\n",
    "\n",
    "# Data to plot\n",
    "pred_labels = ['with mask', 'mask worn wrongly', 'without mask']\n",
    "sizes = [img_worn_wrongly1, img_worn_wrongly0, img_worn_wrongly2]\n",
    "colors = ['gold', 'yellowgreen', 'lightcoral']\n",
    "\n",
    "# Plot\n",
    "plt.pie(sizes, labels=pred_labels, colors=colors, autopct='%1.0f%%', shadow=False, startangle=140)\n",
    "plt.title(\"Prediction of masks actually labelled as mask worn wrongly\")\n",
    "\n",
    "plt.axis('equal')\n",
    "plt.show()"
   ]
  },
  {
   "cell_type": "code",
   "execution_count": 36,
   "metadata": {},
   "outputs": [
    {
     "data": {
      "image/png": "[encoded data removed]",
      "text/plain": [
       "<Figure size 432x288 with 1 Axes>"
      ]
     },
     "metadata": {},
     "output_type": "display_data"
    }
   ],
   "source": [
    "# Prediction of images with actuals labels = 2 (mask worn wrongly)\n",
    "\n",
    "# Data to plot\n",
    "pred_labels = ['with mask', 'mask worn wrongly', 'without mask']\n",
    "sizes = [img_without_mask1, img_without_mask0, img_without_mask2]\n",
    "colors = ['gold', 'yellowgreen', 'lightcoral']\n",
    "\n",
    "# Plot\n",
    "plt.pie(sizes, labels=pred_labels, colors=colors, autopct='%1.0f%%', shadow=False, startangle=140)\n",
    "plt.title(\"Prediction of masks actually labelled as without mask\")\n",
    "\n",
    "plt.axis('equal')\n",
    "plt.show()"
   ]
  },
  {
   "cell_type": "markdown",
   "metadata": {},
   "source": [
    "# 6. Save model"
   ]
  },
  {
   "cell_type": "code",
   "execution_count": 45,
   "metadata": {},
   "outputs": [],
   "source": [
    "import pickle as pk\n",
    "pk.dump(model, open(r\"C:\\Users\\vigne\\OneDrive\\Desktop\\adv_ds_project\\cnn_model.pkl\",\"wb\"))\n"
   ]
  },
  {
   "cell_type": "code",
   "execution_count": null,
   "metadata": {},
   "outputs": [],
   "source": []
  }
 ],
 "metadata": {
  "kernelspec": {
   "display_name": "Tensorflow",
   "language": "python",
   "name": "tensorflow"
  },
  "language_info": {
   "codemirror_mode": {
    "name": "ipython",
    "version": 3
   },
   "file_extension": ".py",
   "mimetype": "text/x-python",
   "name": "python",
   "nbconvert_exporter": "python",
   "pygments_lexer": "ipython3",
   "version": "3.7.7"
  }
 },
 "nbformat": 4,
 "nbformat_minor": 4
}
