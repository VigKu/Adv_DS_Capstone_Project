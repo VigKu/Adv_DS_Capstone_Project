{
 "cells": [
  {
   "cell_type": "code",
   "execution_count": null,
   "metadata": {},
   "outputs": [],
   "source": [
    "###########################################################################\n",
    "# I would like to acknowledge the authors of these task and images.\n",
    "# Kaggle problem: https://www.kaggle.com/andrewmvd/face-mask-detection\n",
    "# Source of the data: https://makeml.app/datasets/mask\n",
    "###########################################################################"
   ]
  },
  {
   "cell_type": "code",
   "execution_count": 2,
   "metadata": {},
   "outputs": [],
   "source": [
    "#### \n",
    "# Modify the model_num according to the model to be used.\n",
    "####\n",
    "# 1 = PCA SVM\n",
    "# 2 = RandomForest\n",
    "# 3 = CNN\n",
    "model_num = 3"
   ]
  },
  {
   "cell_type": "code",
   "execution_count": 3,
   "metadata": {},
   "outputs": [
    {
     "name": "stdout",
     "output_type": "stream",
     "text": [
      "Collecting opencv-python\n",
      "  Using cached opencv_python-4.3.0.36-cp37-cp37m-win_amd64.whl (33.4 MB)\n",
      "Requirement already satisfied: numpy>=1.14.5 in c:\\users\\vigne\\anaconda3\\envs\\tensorflow\\lib\\site-packages (from opencv-python) (1.18.5)\n",
      "Installing collected packages: opencv-python\n",
      "Successfully installed opencv-python-4.3.0.36\n"
     ]
    }
   ],
   "source": [
    "!pip install opencv-python\n"
   ]
  },
  {
   "cell_type": "code",
   "execution_count": 4,
   "metadata": {},
   "outputs": [],
   "source": [
    "import os, sys\n",
    "import pandas as pd\n",
    "import numpy as np\n",
    "import cv2\n",
    "\n",
    "import matplotlib as mpl\n",
    "import matplotlib.pyplot as plt"
   ]
  },
  {
   "cell_type": "markdown",
   "metadata": {},
   "source": [
    "# 1. Image Processing"
   ]
  },
  {
   "cell_type": "code",
   "execution_count": 5,
   "metadata": {
    "scrolled": true
   },
   "outputs": [
    {
     "data": {
      "text/html": [
       "<div>\n",
       "<style scoped>\n",
       "    .dataframe tbody tr th:only-of-type {\n",
       "        vertical-align: middle;\n",
       "    }\n",
       "\n",
       "    .dataframe tbody tr th {\n",
       "        vertical-align: top;\n",
       "    }\n",
       "\n",
       "    .dataframe thead th {\n",
       "        text-align: right;\n",
       "    }\n",
       "</style>\n",
       "<table border=\"1\" class=\"dataframe\">\n",
       "  <thead>\n",
       "    <tr style=\"text-align: right;\">\n",
       "      <th></th>\n",
       "      <th>Filename</th>\n",
       "      <th>ImgDim</th>\n",
       "      <th>Bndbox</th>\n",
       "      <th>ClassStr</th>\n",
       "    </tr>\n",
       "  </thead>\n",
       "  <tbody>\n",
       "    <tr>\n",
       "      <th>0</th>\n",
       "      <td>C:/Users/vigne/OneDrive/Desktop/adv_ds_project...</td>\n",
       "      <td>[512, 366]</td>\n",
       "      <td>[79, 109, 105, 142]</td>\n",
       "      <td>without_mask</td>\n",
       "    </tr>\n",
       "    <tr>\n",
       "      <th>1</th>\n",
       "      <td>C:/Users/vigne/OneDrive/Desktop/adv_ds_project...</td>\n",
       "      <td>[512, 366]</td>\n",
       "      <td>[185, 226, 100, 144]</td>\n",
       "      <td>with_mask</td>\n",
       "    </tr>\n",
       "    <tr>\n",
       "      <th>2</th>\n",
       "      <td>C:/Users/vigne/OneDrive/Desktop/adv_ds_project...</td>\n",
       "      <td>[512, 366]</td>\n",
       "      <td>[325, 360, 90, 141]</td>\n",
       "      <td>without_mask</td>\n",
       "    </tr>\n",
       "    <tr>\n",
       "      <th>3</th>\n",
       "      <td>C:/Users/vigne/OneDrive/Desktop/adv_ds_project...</td>\n",
       "      <td>[400, 156]</td>\n",
       "      <td>[321, 354, 34, 69]</td>\n",
       "      <td>with_mask</td>\n",
       "    </tr>\n",
       "    <tr>\n",
       "      <th>4</th>\n",
       "      <td>C:/Users/vigne/OneDrive/Desktop/adv_ds_project...</td>\n",
       "      <td>[400, 156]</td>\n",
       "      <td>[224, 261, 38, 73]</td>\n",
       "      <td>with_mask</td>\n",
       "    </tr>\n",
       "  </tbody>\n",
       "</table>\n",
       "</div>"
      ],
      "text/plain": [
       "                                            Filename      ImgDim  \\\n",
       "0  C:/Users/vigne/OneDrive/Desktop/adv_ds_project...  [512, 366]   \n",
       "1  C:/Users/vigne/OneDrive/Desktop/adv_ds_project...  [512, 366]   \n",
       "2  C:/Users/vigne/OneDrive/Desktop/adv_ds_project...  [512, 366]   \n",
       "3  C:/Users/vigne/OneDrive/Desktop/adv_ds_project...  [400, 156]   \n",
       "4  C:/Users/vigne/OneDrive/Desktop/adv_ds_project...  [400, 156]   \n",
       "\n",
       "                 Bndbox      ClassStr  \n",
       "0   [79, 109, 105, 142]  without_mask  \n",
       "1  [185, 226, 100, 144]     with_mask  \n",
       "2   [325, 360, 90, 141]  without_mask  \n",
       "3    [321, 354, 34, 69]     with_mask  \n",
       "4    [224, 261, 38, 73]     with_mask  "
      ]
     },
     "execution_count": 5,
     "metadata": {},
     "output_type": "execute_result"
    }
   ],
   "source": [
    "# import saved data from XMLParsing\n",
    "df = pd.read_csv(r\"C:\\Users\\vigne\\OneDrive\\Desktop\\adv_ds_project\\data_table.csv\",index_col=[0])\n",
    "df.head()"
   ]
  },
  {
   "cell_type": "code",
   "execution_count": 6,
   "metadata": {},
   "outputs": [],
   "source": [
    "# Extract the range of BoundingBox from df\n",
    "df_row_length = df.shape[0]\n",
    "xmin_list = []\n",
    "xmax_list = []\n",
    "ymin_list = []\n",
    "ymax_list = []\n",
    "\n",
    "for i in range(df_row_length):\n",
    "    # Extract xmin into a list\n",
    "    xmin = df.Bndbox[i].split(',')[0].strip('[')\n",
    "    xmin_list.append(int(xmin))\n",
    "    # Extract xmax into a list\n",
    "    xmax = df.Bndbox[i].split(',')[1]\n",
    "    xmax_list.append(int(xmax))\n",
    "    # Extract ymin into a list\n",
    "    ymin = df.Bndbox[i].split(',')[2]\n",
    "    ymin_list.append(int(ymin))\n",
    "    # Extract ymax into a list\n",
    "    ymax = df.Bndbox[i].split(',')[3].strip(']')\n",
    "    ymax_list.append(int(ymax))\n",
    "    "
   ]
  },
  {
   "cell_type": "code",
   "execution_count": 7,
   "metadata": {},
   "outputs": [],
   "source": [
    "# Load images\n",
    "path = \"C:/Users/vigne/OneDrive/Desktop/adv_ds_project/images/\"\n",
    "dirs = os.listdir(path)\n",
    "img_list = []\n",
    "\n",
    "# Gather all .png file paths\n",
    "for file in dirs:\n",
    "    img_list.append(path+file)"
   ]
  },
  {
   "cell_type": "code",
   "execution_count": 8,
   "metadata": {},
   "outputs": [],
   "source": [
    "# Collect the number of faces per image in a list\n",
    "faces_per_img_list = None\n",
    "df1 = df.groupby('Filename').count().reset_index()\n",
    "faces_per_img_list = df1.ImgDim"
   ]
  },
  {
   "cell_type": "code",
   "execution_count": 9,
   "metadata": {},
   "outputs": [
    {
     "data": {
      "text/plain": [
       "853"
      ]
     },
     "execution_count": 9,
     "metadata": {},
     "output_type": "execute_result"
    }
   ],
   "source": [
    "len(faces_per_img_list)"
   ]
  },
  {
   "cell_type": "code",
   "execution_count": 10,
   "metadata": {},
   "outputs": [
    {
     "data": {
      "text/plain": [
       "853"
      ]
     },
     "execution_count": 10,
     "metadata": {},
     "output_type": "execute_result"
    }
   ],
   "source": [
    "len(img_list)"
   ]
  },
  {
   "cell_type": "code",
   "execution_count": 11,
   "metadata": {},
   "outputs": [],
   "source": [
    "# Collect all faces from all images and standardize their sizes\n",
    "\n",
    "face_list = []\n",
    "size = 100\n",
    "j=0\n",
    "\n",
    "for ix in range(0,len(img_list)):\n",
    "    # Read image\n",
    "    img = cv2.imread(img_list[ix], 1)\n",
    "    # Change the colour to black and white\n",
    "    gray_img = cv2.cvtColor(img, cv2.COLOR_BGR2GRAY)\n",
    "    \n",
    "    # Extract the faces in each image\n",
    "    for i in range(0,faces_per_img_list[ix]):\n",
    "    \n",
    "        # Extract each face\n",
    "        face = gray_img[ymin_list[j]:ymax_list[j],xmin_list[j]:xmax_list[j]]\n",
    "        # Resize to standard image size - width = 100 & height = 100 - using INTER_LINEAR for interpolation\n",
    "        face_resized = cv2.resize(face, (size, size), interpolation = cv2.INTER_LINEAR)\n",
    "        # Normalize image data\n",
    "        face_resized_normalized = face_resized/255.0\n",
    "        # Store each face in the list\n",
    "        face_list.append(face_resized_normalized)\n",
    "        j+=1\n",
    "        \n",
    "    \n"
   ]
  },
  {
   "cell_type": "code",
   "execution_count": 12,
   "metadata": {},
   "outputs": [],
   "source": [
    "# Reshape the face_list into (4072,size,size) to get stack of images\n",
    "f1 = face_list \n",
    "face_list = np.array(face_list)\n",
    "face_list = np.reshape(face_list, (face_list.shape[0],size,size))\n"
   ]
  },
  {
   "cell_type": "code",
   "execution_count": 13,
   "metadata": {},
   "outputs": [
    {
     "data": {
      "text/plain": [
       "(4072, 100, 100)"
      ]
     },
     "execution_count": 13,
     "metadata": {},
     "output_type": "execute_result"
    }
   ],
   "source": [
    "face_list.shape"
   ]
  },
  {
   "cell_type": "code",
   "execution_count": 14,
   "metadata": {},
   "outputs": [],
   "source": [
    "# Save the numpy array to be used in other notebooks for modelling\n",
    "if model_num == 2:\n",
    "    np.save(r'C:\\Users\\vigne\\OneDrive\\Desktop\\adv_ds_project\\face_list.npy', face_list)\n",
    "elif model_num == 3:\n",
    "    np.save(r'C:\\Users\\vigne\\OneDrive\\Desktop\\adv_ds_project\\face_list_cnn.npy', face_list)\n",
    "else:\n",
    "    np.save(r'C:\\Users\\vigne\\OneDrive\\Desktop\\adv_ds_project\\face_list_pca.npy', face_list)\n",
    "        "
   ]
  },
  {
   "cell_type": "code",
   "execution_count": 15,
   "metadata": {},
   "outputs": [],
   "source": [
    "import pickle as pk\n",
    "\n",
    "pk.dump(face_list, open(r\"C:\\Users\\vigne\\OneDrive\\Desktop\\adv_ds_project\\face_list2.pkl\",\"wb\"))"
   ]
  },
  {
   "cell_type": "markdown",
   "metadata": {},
   "source": [
    "# 2. Labelling"
   ]
  },
  {
   "cell_type": "code",
   "execution_count": 16,
   "metadata": {},
   "outputs": [
    {
     "data": {
      "text/html": [
       "<div>\n",
       "<style scoped>\n",
       "    .dataframe tbody tr th:only-of-type {\n",
       "        vertical-align: middle;\n",
       "    }\n",
       "\n",
       "    .dataframe tbody tr th {\n",
       "        vertical-align: top;\n",
       "    }\n",
       "\n",
       "    .dataframe thead th {\n",
       "        text-align: right;\n",
       "    }\n",
       "</style>\n",
       "<table border=\"1\" class=\"dataframe\">\n",
       "  <thead>\n",
       "    <tr style=\"text-align: right;\">\n",
       "      <th></th>\n",
       "      <th>Filename</th>\n",
       "      <th>ImgDim</th>\n",
       "      <th>Bndbox</th>\n",
       "      <th>ClassStr</th>\n",
       "      <th>label</th>\n",
       "    </tr>\n",
       "  </thead>\n",
       "  <tbody>\n",
       "    <tr>\n",
       "      <th>0</th>\n",
       "      <td>C:/Users/vigne/OneDrive/Desktop/adv_ds_project...</td>\n",
       "      <td>[512, 366]</td>\n",
       "      <td>[79, 109, 105, 142]</td>\n",
       "      <td>without_mask</td>\n",
       "      <td>2</td>\n",
       "    </tr>\n",
       "    <tr>\n",
       "      <th>1</th>\n",
       "      <td>C:/Users/vigne/OneDrive/Desktop/adv_ds_project...</td>\n",
       "      <td>[512, 366]</td>\n",
       "      <td>[185, 226, 100, 144]</td>\n",
       "      <td>with_mask</td>\n",
       "      <td>1</td>\n",
       "    </tr>\n",
       "    <tr>\n",
       "      <th>2</th>\n",
       "      <td>C:/Users/vigne/OneDrive/Desktop/adv_ds_project...</td>\n",
       "      <td>[512, 366]</td>\n",
       "      <td>[325, 360, 90, 141]</td>\n",
       "      <td>without_mask</td>\n",
       "      <td>2</td>\n",
       "    </tr>\n",
       "    <tr>\n",
       "      <th>3</th>\n",
       "      <td>C:/Users/vigne/OneDrive/Desktop/adv_ds_project...</td>\n",
       "      <td>[400, 156]</td>\n",
       "      <td>[321, 354, 34, 69]</td>\n",
       "      <td>with_mask</td>\n",
       "      <td>1</td>\n",
       "    </tr>\n",
       "    <tr>\n",
       "      <th>4</th>\n",
       "      <td>C:/Users/vigne/OneDrive/Desktop/adv_ds_project...</td>\n",
       "      <td>[400, 156]</td>\n",
       "      <td>[224, 261, 38, 73]</td>\n",
       "      <td>with_mask</td>\n",
       "      <td>1</td>\n",
       "    </tr>\n",
       "  </tbody>\n",
       "</table>\n",
       "</div>"
      ],
      "text/plain": [
       "                                            Filename      ImgDim  \\\n",
       "0  C:/Users/vigne/OneDrive/Desktop/adv_ds_project...  [512, 366]   \n",
       "1  C:/Users/vigne/OneDrive/Desktop/adv_ds_project...  [512, 366]   \n",
       "2  C:/Users/vigne/OneDrive/Desktop/adv_ds_project...  [512, 366]   \n",
       "3  C:/Users/vigne/OneDrive/Desktop/adv_ds_project...  [400, 156]   \n",
       "4  C:/Users/vigne/OneDrive/Desktop/adv_ds_project...  [400, 156]   \n",
       "\n",
       "                 Bndbox      ClassStr  label  \n",
       "0   [79, 109, 105, 142]  without_mask      2  \n",
       "1  [185, 226, 100, 144]     with_mask      1  \n",
       "2   [325, 360, 90, 141]  without_mask      2  \n",
       "3    [321, 354, 34, 69]     with_mask      1  \n",
       "4    [224, 261, 38, 73]     with_mask      1  "
      ]
     },
     "execution_count": 16,
     "metadata": {},
     "output_type": "execute_result"
    }
   ],
   "source": [
    "# Time to do labelling for the label categories\n",
    "# Import preprocessing from sklearn\n",
    "from sklearn import preprocessing\n",
    "# Classify the ClassStr into 3 classes in integers\n",
    "le = preprocessing.LabelEncoder()\n",
    "df['label'] = le.fit_transform(df['ClassStr'])\n",
    "df.head()"
   ]
  },
  {
   "cell_type": "code",
   "execution_count": 17,
   "metadata": {},
   "outputs": [
    {
     "data": {
      "text/plain": [
       "array([2, 1, 0])"
      ]
     },
     "execution_count": 17,
     "metadata": {},
     "output_type": "execute_result"
    }
   ],
   "source": [
    "label_cat = df['label'].unique()\n",
    "label_cat"
   ]
  },
  {
   "cell_type": "code",
   "execution_count": 18,
   "metadata": {},
   "outputs": [
    {
     "data": {
      "text/html": [
       "<div>\n",
       "<style scoped>\n",
       "    .dataframe tbody tr th:only-of-type {\n",
       "        vertical-align: middle;\n",
       "    }\n",
       "\n",
       "    .dataframe tbody tr th {\n",
       "        vertical-align: top;\n",
       "    }\n",
       "\n",
       "    .dataframe thead th {\n",
       "        text-align: right;\n",
       "    }\n",
       "</style>\n",
       "<table border=\"1\" class=\"dataframe\">\n",
       "  <thead>\n",
       "    <tr style=\"text-align: right;\">\n",
       "      <th></th>\n",
       "      <th>Filename</th>\n",
       "      <th>ImgDim</th>\n",
       "      <th>Bndbox</th>\n",
       "      <th>ClassStr</th>\n",
       "      <th>label</th>\n",
       "      <th>0</th>\n",
       "      <th>1</th>\n",
       "      <th>2</th>\n",
       "    </tr>\n",
       "  </thead>\n",
       "  <tbody>\n",
       "    <tr>\n",
       "      <th>0</th>\n",
       "      <td>C:/Users/vigne/OneDrive/Desktop/adv_ds_project...</td>\n",
       "      <td>[512, 366]</td>\n",
       "      <td>[79, 109, 105, 142]</td>\n",
       "      <td>without_mask</td>\n",
       "      <td>2</td>\n",
       "      <td>0.0</td>\n",
       "      <td>0.0</td>\n",
       "      <td>1.0</td>\n",
       "    </tr>\n",
       "    <tr>\n",
       "      <th>1</th>\n",
       "      <td>C:/Users/vigne/OneDrive/Desktop/adv_ds_project...</td>\n",
       "      <td>[512, 366]</td>\n",
       "      <td>[185, 226, 100, 144]</td>\n",
       "      <td>with_mask</td>\n",
       "      <td>1</td>\n",
       "      <td>0.0</td>\n",
       "      <td>1.0</td>\n",
       "      <td>0.0</td>\n",
       "    </tr>\n",
       "    <tr>\n",
       "      <th>2</th>\n",
       "      <td>C:/Users/vigne/OneDrive/Desktop/adv_ds_project...</td>\n",
       "      <td>[512, 366]</td>\n",
       "      <td>[325, 360, 90, 141]</td>\n",
       "      <td>without_mask</td>\n",
       "      <td>2</td>\n",
       "      <td>0.0</td>\n",
       "      <td>0.0</td>\n",
       "      <td>1.0</td>\n",
       "    </tr>\n",
       "    <tr>\n",
       "      <th>3</th>\n",
       "      <td>C:/Users/vigne/OneDrive/Desktop/adv_ds_project...</td>\n",
       "      <td>[400, 156]</td>\n",
       "      <td>[321, 354, 34, 69]</td>\n",
       "      <td>with_mask</td>\n",
       "      <td>1</td>\n",
       "      <td>0.0</td>\n",
       "      <td>1.0</td>\n",
       "      <td>0.0</td>\n",
       "    </tr>\n",
       "    <tr>\n",
       "      <th>4</th>\n",
       "      <td>C:/Users/vigne/OneDrive/Desktop/adv_ds_project...</td>\n",
       "      <td>[400, 156]</td>\n",
       "      <td>[224, 261, 38, 73]</td>\n",
       "      <td>with_mask</td>\n",
       "      <td>1</td>\n",
       "      <td>0.0</td>\n",
       "      <td>1.0</td>\n",
       "      <td>0.0</td>\n",
       "    </tr>\n",
       "  </tbody>\n",
       "</table>\n",
       "</div>"
      ],
      "text/plain": [
       "                                            Filename      ImgDim  \\\n",
       "0  C:/Users/vigne/OneDrive/Desktop/adv_ds_project...  [512, 366]   \n",
       "1  C:/Users/vigne/OneDrive/Desktop/adv_ds_project...  [512, 366]   \n",
       "2  C:/Users/vigne/OneDrive/Desktop/adv_ds_project...  [512, 366]   \n",
       "3  C:/Users/vigne/OneDrive/Desktop/adv_ds_project...  [400, 156]   \n",
       "4  C:/Users/vigne/OneDrive/Desktop/adv_ds_project...  [400, 156]   \n",
       "\n",
       "                 Bndbox      ClassStr  label    0    1    2  \n",
       "0   [79, 109, 105, 142]  without_mask      2  0.0  0.0  1.0  \n",
       "1  [185, 226, 100, 144]     with_mask      1  0.0  1.0  0.0  \n",
       "2   [325, 360, 90, 141]  without_mask      2  0.0  0.0  1.0  \n",
       "3    [321, 354, 34, 69]     with_mask      1  0.0  1.0  0.0  \n",
       "4    [224, 261, 38, 73]     with_mask      1  0.0  1.0  0.0  "
      ]
     },
     "execution_count": 18,
     "metadata": {},
     "output_type": "execute_result"
    }
   ],
   "source": [
    "# One hot encoding for the labels\n",
    "ohe = preprocessing.OneHotEncoder(handle_unknown='ignore')\n",
    "ohe_df = pd.DataFrame(ohe.fit_transform(df[['label']]).toarray())\n",
    "# merge with main df bridge_df on key values\n",
    "combined_df = pd.concat([df,ohe_df],axis=1)\n",
    "combined_df.head()"
   ]
  },
  {
   "cell_type": "code",
   "execution_count": 19,
   "metadata": {},
   "outputs": [],
   "source": [
    "#Save the combined_df to a csv file\n",
    "if model_num == 2:\n",
    "    combined_df.to_csv(r\"C:\\Users\\vigne\\OneDrive\\Desktop\\adv_ds_project\\combined_df.csv\")\n",
    "elif model_num == 3:\n",
    "    combined_df.to_csv(r\"C:\\Users\\vigne\\OneDrive\\Desktop\\adv_ds_project\\combined_df_cnn.csv\")\n",
    "else:\n",
    "    combined_df.to_csv(r\"C:\\Users\\vigne\\OneDrive\\Desktop\\adv_ds_project\\combined_df_pca.csv\")"
   ]
  },
  {
   "cell_type": "code",
   "execution_count": null,
   "metadata": {},
   "outputs": [],
   "source": []
  }
 ],
 "metadata": {
  "kernelspec": {
   "display_name": "Python 3",
   "language": "python",
   "name": "python3"
  },
  "language_info": {
   "codemirror_mode": {
    "name": "ipython",
    "version": 3
   },
   "file_extension": ".py",
   "mimetype": "text/x-python",
   "name": "python",
   "nbconvert_exporter": "python",
   "pygments_lexer": "ipython3",
   "version": "3.7.6"
  }
 },
 "nbformat": 4,
 "nbformat_minor": 2
}
