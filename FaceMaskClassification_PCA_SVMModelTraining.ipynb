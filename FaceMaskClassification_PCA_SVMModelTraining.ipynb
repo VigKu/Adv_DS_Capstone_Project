{
 "cells": [
  {
   "cell_type": "code",
   "execution_count": null,
   "metadata": {},
   "outputs": [],
   "source": [
    "###########################################################################\n",
    "# I would like to acknowledge the authors of these task and images.\n",
    "# Kaggle problem: https://www.kaggle.com/andrewmvd/face-mask-detection\n",
    "# Source of the data: https://makeml.app/datasets/mask\n",
    "###########################################################################"
   ]
  },
  {
   "cell_type": "code",
   "execution_count": 1,
   "metadata": {},
   "outputs": [
    {
     "name": "stdout",
     "output_type": "stream",
     "text": [
      "Requirement already satisfied: opencv-python in c:\\users\\vigne\\anaconda3\\lib\\site-packages (4.2.0.34)\n",
      "Requirement already satisfied: numpy>=1.14.5 in c:\\users\\vigne\\anaconda3\\lib\\site-packages (from opencv-python) (1.18.1)\n"
     ]
    }
   ],
   "source": [
    "!pip install opencv-python\n"
   ]
  },
  {
   "cell_type": "code",
   "execution_count": 2,
   "metadata": {},
   "outputs": [],
   "source": [
    "import os, sys\n",
    "import pandas as pd\n",
    "import numpy as np\n",
    "import cv2\n",
    "\n",
    "import matplotlib as mpl\n",
    "import matplotlib.pyplot as plt"
   ]
  },
  {
   "cell_type": "markdown",
   "metadata": {},
   "source": [
    "# 1. Import data"
   ]
  },
  {
   "cell_type": "code",
   "execution_count": 3,
   "metadata": {},
   "outputs": [
    {
     "data": {
      "text/plain": [
       "(4072, 100, 100)"
      ]
     },
     "execution_count": 3,
     "metadata": {},
     "output_type": "execute_result"
    }
   ],
   "source": [
    "face_list = np.load(r'C:\\Users\\vigne\\OneDrive\\Desktop\\adv_ds_project\\face_list_pca.npy')\n",
    "face_list.shape"
   ]
  },
  {
   "cell_type": "code",
   "execution_count": 4,
   "metadata": {},
   "outputs": [
    {
     "data": {
      "text/html": [
       "<div>\n",
       "<style scoped>\n",
       "    .dataframe tbody tr th:only-of-type {\n",
       "        vertical-align: middle;\n",
       "    }\n",
       "\n",
       "    .dataframe tbody tr th {\n",
       "        vertical-align: top;\n",
       "    }\n",
       "\n",
       "    .dataframe thead th {\n",
       "        text-align: right;\n",
       "    }\n",
       "</style>\n",
       "<table border=\"1\" class=\"dataframe\">\n",
       "  <thead>\n",
       "    <tr style=\"text-align: right;\">\n",
       "      <th></th>\n",
       "      <th>Filename</th>\n",
       "      <th>ImgDim</th>\n",
       "      <th>Bndbox</th>\n",
       "      <th>ClassStr</th>\n",
       "      <th>label</th>\n",
       "      <th>0</th>\n",
       "      <th>1</th>\n",
       "      <th>2</th>\n",
       "    </tr>\n",
       "  </thead>\n",
       "  <tbody>\n",
       "    <tr>\n",
       "      <th>0</th>\n",
       "      <td>C:/Users/vk/Desktop/adv_ds_project/annotations...</td>\n",
       "      <td>[512, 366]</td>\n",
       "      <td>[79, 109, 105, 142]</td>\n",
       "      <td>without_mask</td>\n",
       "      <td>2</td>\n",
       "      <td>0.0</td>\n",
       "      <td>0.0</td>\n",
       "      <td>1.0</td>\n",
       "    </tr>\n",
       "    <tr>\n",
       "      <th>1</th>\n",
       "      <td>C:/Users/vk/Desktop/adv_ds_project/annotations...</td>\n",
       "      <td>[512, 366]</td>\n",
       "      <td>[185, 226, 100, 144]</td>\n",
       "      <td>with_mask</td>\n",
       "      <td>1</td>\n",
       "      <td>0.0</td>\n",
       "      <td>1.0</td>\n",
       "      <td>0.0</td>\n",
       "    </tr>\n",
       "    <tr>\n",
       "      <th>2</th>\n",
       "      <td>C:/Users/vk/Desktop/adv_ds_project/annotations...</td>\n",
       "      <td>[512, 366]</td>\n",
       "      <td>[325, 360, 90, 141]</td>\n",
       "      <td>without_mask</td>\n",
       "      <td>2</td>\n",
       "      <td>0.0</td>\n",
       "      <td>0.0</td>\n",
       "      <td>1.0</td>\n",
       "    </tr>\n",
       "    <tr>\n",
       "      <th>3</th>\n",
       "      <td>C:/Users/vk/Desktop/adv_ds_project/annotations...</td>\n",
       "      <td>[400, 156]</td>\n",
       "      <td>[321, 354, 34, 69]</td>\n",
       "      <td>with_mask</td>\n",
       "      <td>1</td>\n",
       "      <td>0.0</td>\n",
       "      <td>1.0</td>\n",
       "      <td>0.0</td>\n",
       "    </tr>\n",
       "    <tr>\n",
       "      <th>4</th>\n",
       "      <td>C:/Users/vk/Desktop/adv_ds_project/annotations...</td>\n",
       "      <td>[400, 156]</td>\n",
       "      <td>[224, 261, 38, 73]</td>\n",
       "      <td>with_mask</td>\n",
       "      <td>1</td>\n",
       "      <td>0.0</td>\n",
       "      <td>1.0</td>\n",
       "      <td>0.0</td>\n",
       "    </tr>\n",
       "  </tbody>\n",
       "</table>\n",
       "</div>"
      ],
      "text/plain": [
       "                                            Filename      ImgDim  \\\n",
       "0  C:/Users/vk/Desktop/adv_ds_project/annotations...  [512, 366]   \n",
       "1  C:/Users/vk/Desktop/adv_ds_project/annotations...  [512, 366]   \n",
       "2  C:/Users/vk/Desktop/adv_ds_project/annotations...  [512, 366]   \n",
       "3  C:/Users/vk/Desktop/adv_ds_project/annotations...  [400, 156]   \n",
       "4  C:/Users/vk/Desktop/adv_ds_project/annotations...  [400, 156]   \n",
       "\n",
       "                 Bndbox      ClassStr  label    0    1    2  \n",
       "0   [79, 109, 105, 142]  without_mask      2  0.0  0.0  1.0  \n",
       "1  [185, 226, 100, 144]     with_mask      1  0.0  1.0  0.0  \n",
       "2   [325, 360, 90, 141]  without_mask      2  0.0  0.0  1.0  \n",
       "3    [321, 354, 34, 69]     with_mask      1  0.0  1.0  0.0  \n",
       "4    [224, 261, 38, 73]     with_mask      1  0.0  1.0  0.0  "
      ]
     },
     "execution_count": 4,
     "metadata": {},
     "output_type": "execute_result"
    }
   ],
   "source": [
    "# Import combined_df from FeatureEngineering\n",
    "combined_df = pd.read_csv(r\"C:\\Users\\vigne\\OneDrive\\Desktop\\adv_ds_project\\combined_df_pca.csv\",index_col=[0])\n",
    "combined_df.head()"
   ]
  },
  {
   "cell_type": "markdown",
   "metadata": {},
   "source": [
    "# 2. Train test split data"
   ]
  },
  {
   "cell_type": "code",
   "execution_count": 5,
   "metadata": {},
   "outputs": [],
   "source": [
    "# Reshape image data from 3 dimensions to 2 dimensions\n",
    "size=face_list.shape[1]\n",
    "X = np.reshape(face_list, (face_list.shape[0],size*size))\n",
    "Y = combined_df['label']"
   ]
  },
  {
   "cell_type": "code",
   "execution_count": 6,
   "metadata": {},
   "outputs": [
    {
     "data": {
      "text/plain": [
       "(4072, 10000)"
      ]
     },
     "execution_count": 6,
     "metadata": {},
     "output_type": "execute_result"
    }
   ],
   "source": [
    "X.shape"
   ]
  },
  {
   "cell_type": "code",
   "execution_count": 7,
   "metadata": {},
   "outputs": [],
   "source": [
    "from sklearn.model_selection import train_test_split\n",
    "x_train, x_validate, y_train, y_validate = train_test_split(X, Y, test_size=0.2, random_state=3)"
   ]
  },
  {
   "cell_type": "code",
   "execution_count": 8,
   "metadata": {},
   "outputs": [
    {
     "name": "stdout",
     "output_type": "stream",
     "text": [
      "Training face_list and label sizes: \n",
      "(3257, 10000), (3257,)\n",
      "Test face_list and label sizes: \n",
      "(815, 10000), (815,)\n"
     ]
    }
   ],
   "source": [
    "print('Training face_list and label sizes: \\n{}, {}'.format(x_train.shape,y_train.shape))\n",
    "print('Test face_list and label sizes: \\n{}, {}'.format(x_validate.shape,y_validate.shape))"
   ]
  },
  {
   "cell_type": "markdown",
   "metadata": {},
   "source": [
    "# 3. PCA model - reduce dim"
   ]
  },
  {
   "cell_type": "code",
   "execution_count": 9,
   "metadata": {},
   "outputs": [],
   "source": [
    "from sklearn.decomposition import PCA\n",
    "pca_model = PCA(n_components=20)\n",
    "pca_data = pca_model.fit_transform(x_train)"
   ]
  },
  {
   "cell_type": "code",
   "execution_count": 10,
   "metadata": {},
   "outputs": [
    {
     "data": {
      "text/html": [
       "<div>\n",
       "<style scoped>\n",
       "    .dataframe tbody tr th:only-of-type {\n",
       "        vertical-align: middle;\n",
       "    }\n",
       "\n",
       "    .dataframe tbody tr th {\n",
       "        vertical-align: top;\n",
       "    }\n",
       "\n",
       "    .dataframe thead th {\n",
       "        text-align: right;\n",
       "    }\n",
       "</style>\n",
       "<table border=\"1\" class=\"dataframe\">\n",
       "  <thead>\n",
       "    <tr style=\"text-align: right;\">\n",
       "      <th></th>\n",
       "      <th>0</th>\n",
       "      <th>1</th>\n",
       "      <th>2</th>\n",
       "      <th>3</th>\n",
       "      <th>4</th>\n",
       "      <th>5</th>\n",
       "      <th>6</th>\n",
       "      <th>7</th>\n",
       "      <th>8</th>\n",
       "      <th>9</th>\n",
       "      <th>10</th>\n",
       "      <th>11</th>\n",
       "      <th>12</th>\n",
       "      <th>13</th>\n",
       "      <th>14</th>\n",
       "      <th>15</th>\n",
       "      <th>16</th>\n",
       "      <th>17</th>\n",
       "      <th>18</th>\n",
       "      <th>19</th>\n",
       "    </tr>\n",
       "  </thead>\n",
       "  <tbody>\n",
       "    <tr>\n",
       "      <th>0</th>\n",
       "      <td>-8.948840</td>\n",
       "      <td>-13.471689</td>\n",
       "      <td>-1.932150</td>\n",
       "      <td>-0.301474</td>\n",
       "      <td>0.198991</td>\n",
       "      <td>3.590844</td>\n",
       "      <td>-1.560852</td>\n",
       "      <td>3.431418</td>\n",
       "      <td>1.641612</td>\n",
       "      <td>-2.458547</td>\n",
       "      <td>5.860164</td>\n",
       "      <td>-1.036921</td>\n",
       "      <td>1.968686</td>\n",
       "      <td>2.731757</td>\n",
       "      <td>-2.047396</td>\n",
       "      <td>0.927100</td>\n",
       "      <td>-3.287677</td>\n",
       "      <td>-2.817235</td>\n",
       "      <td>0.219973</td>\n",
       "      <td>-0.892495</td>\n",
       "    </tr>\n",
       "    <tr>\n",
       "      <th>1</th>\n",
       "      <td>4.239660</td>\n",
       "      <td>-3.475217</td>\n",
       "      <td>3.742907</td>\n",
       "      <td>-10.954527</td>\n",
       "      <td>1.409797</td>\n",
       "      <td>-0.063777</td>\n",
       "      <td>1.807324</td>\n",
       "      <td>1.758984</td>\n",
       "      <td>-0.157787</td>\n",
       "      <td>-1.081871</td>\n",
       "      <td>-0.137020</td>\n",
       "      <td>-1.743727</td>\n",
       "      <td>-0.481335</td>\n",
       "      <td>-1.496705</td>\n",
       "      <td>1.186276</td>\n",
       "      <td>1.525503</td>\n",
       "      <td>0.030464</td>\n",
       "      <td>-0.600903</td>\n",
       "      <td>-0.383515</td>\n",
       "      <td>-1.473288</td>\n",
       "    </tr>\n",
       "    <tr>\n",
       "      <th>2</th>\n",
       "      <td>-8.076911</td>\n",
       "      <td>-3.854312</td>\n",
       "      <td>-8.973524</td>\n",
       "      <td>8.193727</td>\n",
       "      <td>1.583823</td>\n",
       "      <td>-4.181537</td>\n",
       "      <td>-1.815841</td>\n",
       "      <td>1.268326</td>\n",
       "      <td>-2.405956</td>\n",
       "      <td>2.897491</td>\n",
       "      <td>2.462270</td>\n",
       "      <td>-4.756045</td>\n",
       "      <td>1.079001</td>\n",
       "      <td>-2.136383</td>\n",
       "      <td>4.502988</td>\n",
       "      <td>0.000254</td>\n",
       "      <td>0.654386</td>\n",
       "      <td>-1.303967</td>\n",
       "      <td>0.065258</td>\n",
       "      <td>-0.763328</td>\n",
       "    </tr>\n",
       "    <tr>\n",
       "      <th>3</th>\n",
       "      <td>-3.346522</td>\n",
       "      <td>-6.026410</td>\n",
       "      <td>-1.542091</td>\n",
       "      <td>-4.333237</td>\n",
       "      <td>-2.725912</td>\n",
       "      <td>-1.315668</td>\n",
       "      <td>0.215627</td>\n",
       "      <td>-0.250702</td>\n",
       "      <td>-0.132667</td>\n",
       "      <td>-1.936967</td>\n",
       "      <td>2.427813</td>\n",
       "      <td>-1.834315</td>\n",
       "      <td>1.492363</td>\n",
       "      <td>-0.451081</td>\n",
       "      <td>-1.815158</td>\n",
       "      <td>1.088436</td>\n",
       "      <td>-4.009129</td>\n",
       "      <td>0.504057</td>\n",
       "      <td>1.783012</td>\n",
       "      <td>-2.409444</td>\n",
       "    </tr>\n",
       "    <tr>\n",
       "      <th>4</th>\n",
       "      <td>6.425889</td>\n",
       "      <td>-3.455754</td>\n",
       "      <td>-1.721061</td>\n",
       "      <td>5.540180</td>\n",
       "      <td>-4.431856</td>\n",
       "      <td>0.755487</td>\n",
       "      <td>-2.988489</td>\n",
       "      <td>-5.915563</td>\n",
       "      <td>-1.948596</td>\n",
       "      <td>-1.763160</td>\n",
       "      <td>-0.073489</td>\n",
       "      <td>-3.232507</td>\n",
       "      <td>0.236664</td>\n",
       "      <td>0.854042</td>\n",
       "      <td>0.420354</td>\n",
       "      <td>4.460232</td>\n",
       "      <td>2.047874</td>\n",
       "      <td>-0.255278</td>\n",
       "      <td>6.841024</td>\n",
       "      <td>0.400559</td>\n",
       "    </tr>\n",
       "  </tbody>\n",
       "</table>\n",
       "</div>"
      ],
      "text/plain": [
       "          0          1         2          3         4         5         6  \\\n",
       "0 -8.948840 -13.471689 -1.932150  -0.301474  0.198991  3.590844 -1.560852   \n",
       "1  4.239660  -3.475217  3.742907 -10.954527  1.409797 -0.063777  1.807324   \n",
       "2 -8.076911  -3.854312 -8.973524   8.193727  1.583823 -4.181537 -1.815841   \n",
       "3 -3.346522  -6.026410 -1.542091  -4.333237 -2.725912 -1.315668  0.215627   \n",
       "4  6.425889  -3.455754 -1.721061   5.540180 -4.431856  0.755487 -2.988489   \n",
       "\n",
       "          7         8         9        10        11        12        13  \\\n",
       "0  3.431418  1.641612 -2.458547  5.860164 -1.036921  1.968686  2.731757   \n",
       "1  1.758984 -0.157787 -1.081871 -0.137020 -1.743727 -0.481335 -1.496705   \n",
       "2  1.268326 -2.405956  2.897491  2.462270 -4.756045  1.079001 -2.136383   \n",
       "3 -0.250702 -0.132667 -1.936967  2.427813 -1.834315  1.492363 -0.451081   \n",
       "4 -5.915563 -1.948596 -1.763160 -0.073489 -3.232507  0.236664  0.854042   \n",
       "\n",
       "         14        15        16        17        18        19  \n",
       "0 -2.047396  0.927100 -3.287677 -2.817235  0.219973 -0.892495  \n",
       "1  1.186276  1.525503  0.030464 -0.600903 -0.383515 -1.473288  \n",
       "2  4.502988  0.000254  0.654386 -1.303967  0.065258 -0.763328  \n",
       "3 -1.815158  1.088436 -4.009129  0.504057  1.783012 -2.409444  \n",
       "4  0.420354  4.460232  2.047874 -0.255278  6.841024  0.400559  "
      ]
     },
     "execution_count": 10,
     "metadata": {},
     "output_type": "execute_result"
    }
   ],
   "source": [
    "pca_df = pd.DataFrame(data = pca_data)\n",
    "pca_df.head()"
   ]
  },
  {
   "cell_type": "code",
   "execution_count": 11,
   "metadata": {
    "scrolled": true
   },
   "outputs": [
    {
     "name": "stdout",
     "output_type": "stream",
     "text": [
      "Explained variation per principal component: [0.40501852 0.11113589 0.07893861 0.06737272 0.0296405  0.02746223\n",
      " 0.02427941 0.01762081 0.01659669 0.0141383  0.01173359 0.01039956\n",
      " 0.00868152 0.00787222 0.0072475  0.00660895 0.00633172 0.00582756\n",
      " 0.00539605 0.00487008]\n"
     ]
    }
   ],
   "source": [
    "print('Explained variation per principal component: {}'.format(pca_model.explained_variance_ratio_))"
   ]
  },
  {
   "cell_type": "markdown",
   "metadata": {},
   "source": [
    "# 4. SVM - Gridsearch"
   ]
  },
  {
   "cell_type": "code",
   "execution_count": 12,
   "metadata": {},
   "outputs": [],
   "source": [
    "from sklearn.model_selection import cross_val_score, GridSearchCV\n",
    "# Create the parameter grid based on the results of random search \n",
    "params_grid = [{'gamma': [1e-3, 0.01, 0.1],'C': [0.1, 1, 10]}]"
   ]
  },
  {
   "cell_type": "code",
   "execution_count": 13,
   "metadata": {},
   "outputs": [
    {
     "data": {
      "text/plain": [
       "GridSearchCV(cv=5, error_score=nan,\n",
       "             estimator=SVC(C=1.0, break_ties=False, cache_size=200,\n",
       "                           class_weight='balanced', coef0=0.0,\n",
       "                           decision_function_shape='ovr', degree=3,\n",
       "                           gamma='scale', kernel='rbf', max_iter=-1,\n",
       "                           probability=False, random_state=None, shrinking=True,\n",
       "                           tol=0.001, verbose=False),\n",
       "             iid='deprecated', n_jobs=None,\n",
       "             param_grid=[{'C': [0.1, 1, 10], 'gamma': [0.001, 0.01, 0.1]}],\n",
       "             pre_dispatch='2*n_jobs', refit=True, return_train_score=False,\n",
       "             scoring=None, verbose=0)"
      ]
     },
     "execution_count": 13,
     "metadata": {},
     "output_type": "execute_result"
    }
   ],
   "source": [
    "# Import classifiers and performance metrics\n",
    "from sklearn import svm, metrics\n",
    "from sklearn.svm import SVC\n",
    "SVMmodel = GridSearchCV(SVC(class_weight='balanced'), params_grid, cv=5)\n",
    "SVMmodel.fit(pca_data,y_train)"
   ]
  },
  {
   "cell_type": "code",
   "execution_count": 14,
   "metadata": {},
   "outputs": [
    {
     "name": "stdout",
     "output_type": "stream",
     "text": [
      "Best score for training data: 0.8652130276214978 \n",
      "\n",
      "Best C: 10 \n",
      "\n",
      "Best Gamma: 0.01 \n",
      "\n"
     ]
    }
   ],
   "source": [
    "# View the accuracy score\n",
    "print('Best score for training data:', SVMmodel.best_score_,\"\\n\") \n",
    "\n",
    "# View the best parameters for the model found using grid search\n",
    "print('Best C:',SVMmodel.best_estimator_.C,\"\\n\") \n",
    "print('Best Gamma:',SVMmodel.best_estimator_.gamma,\"\\n\")\n",
    "\n"
   ]
  },
  {
   "cell_type": "markdown",
   "metadata": {},
   "source": [
    "# 5. Predict"
   ]
  },
  {
   "cell_type": "code",
   "execution_count": 15,
   "metadata": {},
   "outputs": [],
   "source": [
    "# Reduce dim for validation data using PCA and predict using SVM\n",
    "best_model = SVMmodel.best_estimator_\n",
    "x_val_data = pca_model.transform(x_validate)\n",
    "y_pred = best_model.predict(x_val_data)\n",
    "#Y_pred_label = list(encoder.inverse_transform(Y_pred))"
   ]
  },
  {
   "cell_type": "markdown",
   "metadata": {},
   "source": [
    "# 6. Evaluation - Confusion Matrix"
   ]
  },
  {
   "cell_type": "code",
   "execution_count": 16,
   "metadata": {},
   "outputs": [
    {
     "name": "stdout",
     "output_type": "stream",
     "text": [
      "Classification report for SVMmodel SVC(C=10, break_ties=False, cache_size=200, class_weight='balanced', coef0=0.0,\n",
      "    decision_function_shape='ovr', degree=3, gamma=0.01, kernel='rbf',\n",
      "    max_iter=-1, probability=False, random_state=None, shrinking=True,\n",
      "    tol=0.001, verbose=False):\n",
      "              precision    recall  f1-score   support\n",
      "\n",
      "           0       0.50      0.19      0.28        26\n",
      "           1       0.91      0.94      0.93       643\n",
      "           2       0.74      0.70      0.72       146\n",
      "\n",
      "    accuracy                           0.88       815\n",
      "   macro avg       0.72      0.61      0.64       815\n",
      "weighted avg       0.87      0.88      0.87       815\n",
      "\n",
      "\n"
     ]
    }
   ],
   "source": [
    "# Compare predicted and expected values\n",
    "print(\"Classification report for SVMmodel %s:\\n%s\\n\"\n",
    "      % (best_model, metrics.classification_report(y_validate, y_pred)))"
   ]
  },
  {
   "cell_type": "code",
   "execution_count": 17,
   "metadata": {},
   "outputs": [],
   "source": [
    "# 0 = mask worn wrongly 1 = with mask  2 = without mask"
   ]
  },
  {
   "cell_type": "markdown",
   "metadata": {},
   "source": [
    "### Visualization - True Positives v.s. False Positives"
   ]
  },
  {
   "cell_type": "code",
   "execution_count": 18,
   "metadata": {},
   "outputs": [
    {
     "data": {
      "text/plain": [
       "array([[  5,  18,   3],\n",
       "       [  3, 607,  33],\n",
       "       [  2,  42, 102]], dtype=int64)"
      ]
     },
     "execution_count": 18,
     "metadata": {},
     "output_type": "execute_result"
    }
   ],
   "source": [
    "from sklearn.metrics import confusion_matrix\n",
    "cf = confusion_matrix(y_validate, y_pred)\n",
    "cf #cf[actu][pred]\n",
    "# pred 0 1 2\n",
    "# actu\n",
    "# 0\n",
    "# 1\n",
    "# 2"
   ]
  },
  {
   "cell_type": "code",
   "execution_count": 19,
   "metadata": {},
   "outputs": [
    {
     "data": {
      "image/png": "[encoded data removed]",
      "text/plain": [
       "<Figure size 432x288 with 1 Axes>"
      ]
     },
     "metadata": {
      "needs_background": "light"
     },
     "output_type": "display_data"
    }
   ],
   "source": [
    "# segregate images with actual labels = 1 when prediction = 1 \n",
    "img_with_mask1 = cf[1][1]\n",
    "# segregate images with actual labels = 0 when prediction = 1 \n",
    "img_worn_wrongly1 = cf[0][1]\n",
    "# segregate images with actual labels = 2 when prediction = 1 \n",
    "img_without_mask1 = cf[2][1]\n",
    "\n",
    "# Find % of images predicted to be 1\n",
    "t1 = img_with_mask1 + img_worn_wrongly1 + img_without_mask1\n",
    "p1 = int(img_with_mask1/t1*100)\n",
    "p0 = int(img_worn_wrongly1/t1*100)\n",
    "p2 = 100-p1-p0\n",
    "\n",
    "\n",
    "plt.bar([\"with mask-\"+str(p1)+\"%\",\"mask worn wrongly-\"+str(p0)+\"%\",\"without mask-\"+str(p2)+\"%\"],[img_with_mask1,img_worn_wrongly1,img_without_mask1])\n",
    "plt.title(\"Number of masks per category predicted as with mask\")\n",
    "plt.ylabel(\"Number of masks\")\n",
    "plt.show()"
   ]
  },
  {
   "cell_type": "code",
   "execution_count": 20,
   "metadata": {},
   "outputs": [
    {
     "data": {
      "image/png": "[encoded data removed]",
      "text/plain": [
       "<Figure size 432x288 with 1 Axes>"
      ]
     },
     "metadata": {
      "needs_background": "light"
     },
     "output_type": "display_data"
    }
   ],
   "source": [
    "# segregate images with actual labels = 1 when prediction = 0 \n",
    "img_with_mask0 = cf[1][0]\n",
    "# segregate images with actual labels = 0 when prediction = 0 \n",
    "img_worn_wrongly0 = cf[0][0]\n",
    "# segregate images with actual labels = 2 when prediction = 0 \n",
    "img_without_mask0 = cf[2][0]\n",
    "\n",
    "# Find % of images predicted to be 0\n",
    "t0 = img_with_mask0 + img_worn_wrongly0 + img_without_mask0\n",
    "p1 = int(img_with_mask0/t0*100)\n",
    "p0 = int(img_worn_wrongly0/t0*100)\n",
    "p2 = 100-p1-p0\n",
    "\n",
    "\n",
    "plt.bar([\"with mask-\"+str(p1)+\"%\",\"mask worn wrongly-\"+str(p0)+\"%\",\"without mask-\"+str(p2)+\"%\"],[img_with_mask0,img_worn_wrongly0,img_without_mask0])\n",
    "plt.title(\"Number of masks per category predicted as mask worn wrongly\")\n",
    "plt.ylabel(\"Number of masks\")\n",
    "plt.show()"
   ]
  },
  {
   "cell_type": "code",
   "execution_count": 21,
   "metadata": {},
   "outputs": [
    {
     "data": {
      "image/png": "[encoded data removed]",
      "text/plain": [
       "<Figure size 432x288 with 1 Axes>"
      ]
     },
     "metadata": {
      "needs_background": "light"
     },
     "output_type": "display_data"
    }
   ],
   "source": [
    "\n",
    "# segregate images with actual labels = 1 when prediction = 2\n",
    "img_with_mask2 = cf[1][2]\n",
    "# segregate images with actual labels = 0 when prediction = 2 \n",
    "img_worn_wrongly2 = cf[0][2]\n",
    "# segregate images with actual labels = 2 when prediction = 2 \n",
    "img_without_mask2 = cf[2][2]\n",
    "\n",
    "# Find % of images predicted to be 2\n",
    "t2 = img_with_mask2 + img_worn_wrongly2 + img_without_mask2\n",
    "p1 = int(img_with_mask2/t2*100)\n",
    "p0 = int(img_worn_wrongly2/t2*100)\n",
    "p2 = 100-p1-p0\n",
    "\n",
    "\n",
    "plt.bar([\"with mask-\"+str(p1)+\"%\",\"mask worn wrongly-\"+str(p0)+\"%\",\"without mask-\"+str(p2)+\"%\"],[img_with_mask2,img_worn_wrongly2,img_without_mask2])\n",
    "plt.title(\"Number of masks per category predicted as without mask\")\n",
    "plt.ylabel(\"Number of masks\")\n",
    "plt.show()"
   ]
  },
  {
   "cell_type": "markdown",
   "metadata": {},
   "source": [
    "### Visualization - True Positives v.s. False Negatives"
   ]
  },
  {
   "cell_type": "code",
   "execution_count": 22,
   "metadata": {},
   "outputs": [
    {
     "data": {
      "image/png": "[encoded data removed]",
      "text/plain": [
       "<Figure size 432x288 with 1 Axes>"
      ]
     },
     "metadata": {},
     "output_type": "display_data"
    }
   ],
   "source": [
    "# Prediction of images with actuals labels = 1 (with mask)\n",
    "\n",
    "# Data to plot\n",
    "pred_labels = ['with mask', 'mask worn wrongly', 'without mask']\n",
    "sizes = [img_with_mask1, img_with_mask0, img_with_mask2]\n",
    "colors = ['gold', 'yellowgreen', 'lightcoral']\n",
    "\n",
    "# Plot\n",
    "plt.pie(sizes, labels=pred_labels, colors=colors, autopct='%1.0f%%', shadow=False, startangle=140)\n",
    "plt.title(\"Prediction of masks actually labelled as with mask\")\n",
    "\n",
    "plt.axis('equal')\n",
    "plt.show()"
   ]
  },
  {
   "cell_type": "code",
   "execution_count": 23,
   "metadata": {},
   "outputs": [
    {
     "data": {
      "image/png": "[encoded data removed]",
      "text/plain": [
       "<Figure size 432x288 with 1 Axes>"
      ]
     },
     "metadata": {},
     "output_type": "display_data"
    }
   ],
   "source": [
    "# Prediction of images with actuals labels = 0 (mask worn wrongly)\n",
    "\n",
    "# Data to plot\n",
    "pred_labels = ['with mask', 'mask worn wrongly', 'without mask']\n",
    "sizes = [img_worn_wrongly1, img_worn_wrongly0, img_worn_wrongly2]\n",
    "colors = ['gold', 'yellowgreen', 'lightcoral']\n",
    "\n",
    "# Plot\n",
    "plt.pie(sizes, labels=pred_labels, colors=colors, autopct='%1.0f%%', shadow=False, startangle=140)\n",
    "plt.title(\"Prediction of masks actually labelled as mask worn wrongly\")\n",
    "\n",
    "plt.axis('equal')\n",
    "plt.show()"
   ]
  },
  {
   "cell_type": "code",
   "execution_count": 24,
   "metadata": {},
   "outputs": [
    {
     "data": {
      "image/png": "[encoded data removed]",
      "text/plain": [
       "<Figure size 432x288 with 1 Axes>"
      ]
     },
     "metadata": {},
     "output_type": "display_data"
    }
   ],
   "source": [
    "# Prediction of images with actuals labels = 2 (mask worn wrongly)\n",
    "\n",
    "# Data to plot\n",
    "pred_labels = ['with mask', 'mask worn wrongly', 'without mask']\n",
    "sizes = [img_without_mask1, img_without_mask0, img_without_mask2]\n",
    "colors = ['gold', 'yellowgreen', 'lightcoral']\n",
    "\n",
    "# Plot\n",
    "plt.pie(sizes, labels=pred_labels, colors=colors, autopct='%1.0f%%', shadow=False, startangle=140)\n",
    "plt.title(\"Prediction of masks actually labelled as without mask\")\n",
    "\n",
    "plt.axis('equal')\n",
    "plt.show()"
   ]
  },
  {
   "cell_type": "markdown",
   "metadata": {},
   "source": [
    "# 7. Save models"
   ]
  },
  {
   "cell_type": "code",
   "execution_count": 26,
   "metadata": {},
   "outputs": [],
   "source": [
    "import pickle as pk\n",
    "pk.dump(pca_model, open(r\"C:\\Users\\vigne\\OneDrive\\Desktop\\adv_ds_project\\pca_model.pkl\",\"wb\"))\n",
    "pk.dump(best_model, open(r\"C:\\Users\\vigne\\OneDrive\\Desktop\\adv_ds_project\\svm_pca_model.pkl\",\"wb\"))\n",
    "# later reload the pickle file\n",
    "# pca_reload = pk.load(open(\"pca.pkl\",'rb'))\n",
    "# result_new = pca_reload .transform(X)"
   ]
  },
  {
   "cell_type": "code",
   "execution_count": null,
   "metadata": {},
   "outputs": [],
   "source": []
  }
 ],
 "metadata": {
  "kernelspec": {
   "display_name": "Python 3",
   "language": "python",
   "name": "python3"
  },
  "language_info": {
   "codemirror_mode": {
    "name": "ipython",
    "version": 3
   },
   "file_extension": ".py",
   "mimetype": "text/x-python",
   "name": "python",
   "nbconvert_exporter": "python",
   "pygments_lexer": "ipython3",
   "version": "3.7.6"
  }
 },
 "nbformat": 4,
 "nbformat_minor": 2
}
