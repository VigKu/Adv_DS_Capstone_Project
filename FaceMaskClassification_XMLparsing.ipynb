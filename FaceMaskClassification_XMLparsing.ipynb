{
 "cells": [
  {
   "cell_type": "code",
   "execution_count": null,
   "metadata": {},
   "outputs": [],
   "source": [
    "###########################################################################\n",
    "# I would like to acknowledge the authors of these task and images.\n",
    "# Kaggle problem: https://www.kaggle.com/andrewmvd/face-mask-detection\n",
    "# Source of the data: https://makeml.app/datasets/mask\n",
    "###########################################################################"
   ]
  },
  {
   "cell_type": "code",
   "execution_count": 3,
   "metadata": {},
   "outputs": [
    {
     "name": "stdout",
     "output_type": "stream",
     "text": [
      "Requirement already satisfied: bs4 in c:\\users\\vigne\\anaconda3\\lib\\site-packages (0.0.1)\n",
      "Requirement already satisfied: beautifulsoup4 in c:\\users\\vigne\\anaconda3\\lib\\site-packages (from bs4) (4.8.2)\n",
      "Requirement already satisfied: soupsieve>=1.2 in c:\\users\\vigne\\anaconda3\\lib\\site-packages (from beautifulsoup4->bs4) (1.9.5)\n",
      "Requirement already satisfied: lxml in c:\\users\\vigne\\anaconda3\\lib\\site-packages (4.5.0)\n"
     ]
    }
   ],
   "source": [
    "import pandas as pd\n",
    "!pip install bs4\n",
    "from bs4 import BeautifulSoup as bs\n",
    "!pip install lxml"
   ]
  },
  {
   "cell_type": "code",
   "execution_count": 8,
   "metadata": {},
   "outputs": [],
   "source": [
    "import os, sys\n",
    "path =\"C:/Users/vigne/OneDrive/Desktop/adv_ds_project/annotations/\"\n",
    "dirs = os.listdir(path)\n",
    "img_files = []\n",
    "\n",
    "#Gather all .xml file paths\n",
    "for file in dirs:\n",
    "    img_files.append(path+file)"
   ]
  },
  {
   "cell_type": "code",
   "execution_count": 9,
   "metadata": {},
   "outputs": [],
   "source": [
    "### Parsing ###\n",
    "\n",
    "img_dim=[]\n",
    "bndbox_dim=[]\n",
    "class_str=[]\n",
    "filename=[]\n",
    "for each in img_files:\n",
    "    file = open(each)\n",
    "    page = file.read()\n",
    "    soup = bs(page, \"xml\")\n",
    "    \n",
    "    faces = soup.findAll('object')\n",
    "    for face in faces:\n",
    "    \n",
    "        #append filename\n",
    "        filename.append(each)\n",
    "    \n",
    "        #parse image dim\n",
    "        size = soup.find('size')\n",
    "        width = int(size.find('width').text)\n",
    "        height = int(size.find('height').text)\n",
    "        img_dim.append([width,height])\n",
    "    \n",
    "        #parse class string -> class name\n",
    "        cat = face.find('name').text\n",
    "        class_str.append(cat)\n",
    "        \n",
    "        #parse bndbox range\n",
    "        box=face.find('bndbox')\n",
    "        xmin = int(box.find('xmin').text)\n",
    "        xmax = int(box.find('xmax').text)\n",
    "        ymin = int(box.find('ymin').text)\n",
    "        ymax = int(box.find('ymax').text)\n",
    "        \n",
    "        # format -> xmin xmax ymin ymax\n",
    "        bndbox_dim.append([xmin,xmax,ymin,ymax])"
   ]
  },
  {
   "cell_type": "code",
   "execution_count": 10,
   "metadata": {},
   "outputs": [
    {
     "name": "stdout",
     "output_type": "stream",
     "text": [
      "[[512, 366], [512, 366], [512, 366], [400, 156], [400, 156]]\n"
     ]
    }
   ],
   "source": [
    "# Check data\n",
    "print(img_dim[0:5])"
   ]
  },
  {
   "cell_type": "code",
   "execution_count": 11,
   "metadata": {},
   "outputs": [
    {
     "name": "stdout",
     "output_type": "stream",
     "text": [
      "[[79, 109, 105, 142], [185, 226, 100, 144], [325, 360, 90, 141], [321, 354, 34, 69], [224, 261, 38, 73]]\n"
     ]
    }
   ],
   "source": [
    "# Check data\n",
    "print(bndbox_dim[0:5])"
   ]
  },
  {
   "cell_type": "code",
   "execution_count": 12,
   "metadata": {},
   "outputs": [
    {
     "name": "stdout",
     "output_type": "stream",
     "text": [
      "['without_mask', 'with_mask', 'without_mask', 'with_mask', 'with_mask']\n"
     ]
    }
   ],
   "source": [
    "# Check data\n",
    "print(class_str[0:5])"
   ]
  },
  {
   "cell_type": "code",
   "execution_count": 13,
   "metadata": {},
   "outputs": [
    {
     "name": "stdout",
     "output_type": "stream",
     "text": [
      "['C:/Users/vigne/OneDrive/Desktop/adv_ds_project/annotations/maksssksksss0.xml', 'C:/Users/vigne/OneDrive/Desktop/adv_ds_project/annotations/maksssksksss0.xml', 'C:/Users/vigne/OneDrive/Desktop/adv_ds_project/annotations/maksssksksss0.xml', 'C:/Users/vigne/OneDrive/Desktop/adv_ds_project/annotations/maksssksksss1.xml', 'C:/Users/vigne/OneDrive/Desktop/adv_ds_project/annotations/maksssksksss1.xml']\n"
     ]
    }
   ],
   "source": [
    "# Check data\n",
    "print(filename[0:5])"
   ]
  },
  {
   "cell_type": "code",
   "execution_count": 14,
   "metadata": {},
   "outputs": [
    {
     "data": {
      "text/html": [
       "<div>\n",
       "<style scoped>\n",
       "    .dataframe tbody tr th:only-of-type {\n",
       "        vertical-align: middle;\n",
       "    }\n",
       "\n",
       "    .dataframe tbody tr th {\n",
       "        vertical-align: top;\n",
       "    }\n",
       "\n",
       "    .dataframe thead th {\n",
       "        text-align: right;\n",
       "    }\n",
       "</style>\n",
       "<table border=\"1\" class=\"dataframe\">\n",
       "  <thead>\n",
       "    <tr style=\"text-align: right;\">\n",
       "      <th></th>\n",
       "      <th>Filename</th>\n",
       "      <th>ImgDim</th>\n",
       "      <th>Bndbox</th>\n",
       "      <th>ClassStr</th>\n",
       "    </tr>\n",
       "  </thead>\n",
       "  <tbody>\n",
       "    <tr>\n",
       "      <th>0</th>\n",
       "      <td>C:/Users/vigne/OneDrive/Desktop/adv_ds_project...</td>\n",
       "      <td>[512, 366]</td>\n",
       "      <td>[79, 109, 105, 142]</td>\n",
       "      <td>without_mask</td>\n",
       "    </tr>\n",
       "    <tr>\n",
       "      <th>1</th>\n",
       "      <td>C:/Users/vigne/OneDrive/Desktop/adv_ds_project...</td>\n",
       "      <td>[512, 366]</td>\n",
       "      <td>[185, 226, 100, 144]</td>\n",
       "      <td>with_mask</td>\n",
       "    </tr>\n",
       "    <tr>\n",
       "      <th>2</th>\n",
       "      <td>C:/Users/vigne/OneDrive/Desktop/adv_ds_project...</td>\n",
       "      <td>[512, 366]</td>\n",
       "      <td>[325, 360, 90, 141]</td>\n",
       "      <td>without_mask</td>\n",
       "    </tr>\n",
       "    <tr>\n",
       "      <th>3</th>\n",
       "      <td>C:/Users/vigne/OneDrive/Desktop/adv_ds_project...</td>\n",
       "      <td>[400, 156]</td>\n",
       "      <td>[321, 354, 34, 69]</td>\n",
       "      <td>with_mask</td>\n",
       "    </tr>\n",
       "    <tr>\n",
       "      <th>4</th>\n",
       "      <td>C:/Users/vigne/OneDrive/Desktop/adv_ds_project...</td>\n",
       "      <td>[400, 156]</td>\n",
       "      <td>[224, 261, 38, 73]</td>\n",
       "      <td>with_mask</td>\n",
       "    </tr>\n",
       "  </tbody>\n",
       "</table>\n",
       "</div>"
      ],
      "text/plain": [
       "                                            Filename      ImgDim  \\\n",
       "0  C:/Users/vigne/OneDrive/Desktop/adv_ds_project...  [512, 366]   \n",
       "1  C:/Users/vigne/OneDrive/Desktop/adv_ds_project...  [512, 366]   \n",
       "2  C:/Users/vigne/OneDrive/Desktop/adv_ds_project...  [512, 366]   \n",
       "3  C:/Users/vigne/OneDrive/Desktop/adv_ds_project...  [400, 156]   \n",
       "4  C:/Users/vigne/OneDrive/Desktop/adv_ds_project...  [400, 156]   \n",
       "\n",
       "                 Bndbox      ClassStr  \n",
       "0   [79, 109, 105, 142]  without_mask  \n",
       "1  [185, 226, 100, 144]     with_mask  \n",
       "2   [325, 360, 90, 141]  without_mask  \n",
       "3    [321, 354, 34, 69]     with_mask  \n",
       "4    [224, 261, 38, 73]     with_mask  "
      ]
     },
     "execution_count": 14,
     "metadata": {},
     "output_type": "execute_result"
    }
   ],
   "source": [
    "# Combine all individual lists to one list\n",
    "data_table = [filename,img_dim,bndbox_dim,class_str]\n",
    "\n",
    "#Create a dataframe using pandas\n",
    "df = pd.DataFrame(data_table)\n",
    "#Add column headers\n",
    "df = df.transpose()\n",
    "headers = ['Filename','ImgDim','Bndbox','ClassStr']\n",
    "df.columns = headers\n",
    "df.head()"
   ]
  },
  {
   "cell_type": "code",
   "execution_count": 15,
   "metadata": {},
   "outputs": [],
   "source": [
    "#Save the dataframe to a csv file\n",
    "df.to_csv(r\"C:\\Users\\vigne\\OneDrive\\Desktop\\adv_ds_project\\data_table.csv\")"
   ]
  },
  {
   "cell_type": "code",
   "execution_count": 16,
   "metadata": {},
   "outputs": [
    {
     "data": {
      "text/html": [
       "<div>\n",
       "<style scoped>\n",
       "    .dataframe tbody tr th:only-of-type {\n",
       "        vertical-align: middle;\n",
       "    }\n",
       "\n",
       "    .dataframe tbody tr th {\n",
       "        vertical-align: top;\n",
       "    }\n",
       "\n",
       "    .dataframe thead th {\n",
       "        text-align: right;\n",
       "    }\n",
       "</style>\n",
       "<table border=\"1\" class=\"dataframe\">\n",
       "  <thead>\n",
       "    <tr style=\"text-align: right;\">\n",
       "      <th></th>\n",
       "      <th>ImgDim</th>\n",
       "      <th>Bndbox</th>\n",
       "      <th>ClassStr</th>\n",
       "    </tr>\n",
       "    <tr>\n",
       "      <th>Filename</th>\n",
       "      <th></th>\n",
       "      <th></th>\n",
       "      <th></th>\n",
       "    </tr>\n",
       "  </thead>\n",
       "  <tbody>\n",
       "    <tr>\n",
       "      <th>C:/Users/vigne/OneDrive/Desktop/adv_ds_project/annotations/maksssksksss0.xml</th>\n",
       "      <td>3</td>\n",
       "      <td>3</td>\n",
       "      <td>3</td>\n",
       "    </tr>\n",
       "    <tr>\n",
       "      <th>C:/Users/vigne/OneDrive/Desktop/adv_ds_project/annotations/maksssksksss1.xml</th>\n",
       "      <td>9</td>\n",
       "      <td>9</td>\n",
       "      <td>9</td>\n",
       "    </tr>\n",
       "    <tr>\n",
       "      <th>C:/Users/vigne/OneDrive/Desktop/adv_ds_project/annotations/maksssksksss10.xml</th>\n",
       "      <td>1</td>\n",
       "      <td>1</td>\n",
       "      <td>1</td>\n",
       "    </tr>\n",
       "    <tr>\n",
       "      <th>C:/Users/vigne/OneDrive/Desktop/adv_ds_project/annotations/maksssksksss100.xml</th>\n",
       "      <td>3</td>\n",
       "      <td>3</td>\n",
       "      <td>3</td>\n",
       "    </tr>\n",
       "    <tr>\n",
       "      <th>C:/Users/vigne/OneDrive/Desktop/adv_ds_project/annotations/maksssksksss101.xml</th>\n",
       "      <td>1</td>\n",
       "      <td>1</td>\n",
       "      <td>1</td>\n",
       "    </tr>\n",
       "    <tr>\n",
       "      <th>C:/Users/vigne/OneDrive/Desktop/adv_ds_project/annotations/maksssksksss102.xml</th>\n",
       "      <td>1</td>\n",
       "      <td>1</td>\n",
       "      <td>1</td>\n",
       "    </tr>\n",
       "    <tr>\n",
       "      <th>C:/Users/vigne/OneDrive/Desktop/adv_ds_project/annotations/maksssksksss103.xml</th>\n",
       "      <td>4</td>\n",
       "      <td>4</td>\n",
       "      <td>4</td>\n",
       "    </tr>\n",
       "    <tr>\n",
       "      <th>C:/Users/vigne/OneDrive/Desktop/adv_ds_project/annotations/maksssksksss104.xml</th>\n",
       "      <td>8</td>\n",
       "      <td>8</td>\n",
       "      <td>8</td>\n",
       "    </tr>\n",
       "    <tr>\n",
       "      <th>C:/Users/vigne/OneDrive/Desktop/adv_ds_project/annotations/maksssksksss105.xml</th>\n",
       "      <td>9</td>\n",
       "      <td>9</td>\n",
       "      <td>9</td>\n",
       "    </tr>\n",
       "    <tr>\n",
       "      <th>C:/Users/vigne/OneDrive/Desktop/adv_ds_project/annotations/maksssksksss106.xml</th>\n",
       "      <td>1</td>\n",
       "      <td>1</td>\n",
       "      <td>1</td>\n",
       "    </tr>\n",
       "    <tr>\n",
       "      <th>C:/Users/vigne/OneDrive/Desktop/adv_ds_project/annotations/maksssksksss107.xml</th>\n",
       "      <td>1</td>\n",
       "      <td>1</td>\n",
       "      <td>1</td>\n",
       "    </tr>\n",
       "    <tr>\n",
       "      <th>C:/Users/vigne/OneDrive/Desktop/adv_ds_project/annotations/maksssksksss108.xml</th>\n",
       "      <td>5</td>\n",
       "      <td>5</td>\n",
       "      <td>5</td>\n",
       "    </tr>\n",
       "    <tr>\n",
       "      <th>C:/Users/vigne/OneDrive/Desktop/adv_ds_project/annotations/maksssksksss109.xml</th>\n",
       "      <td>1</td>\n",
       "      <td>1</td>\n",
       "      <td>1</td>\n",
       "    </tr>\n",
       "    <tr>\n",
       "      <th>C:/Users/vigne/OneDrive/Desktop/adv_ds_project/annotations/maksssksksss11.xml</th>\n",
       "      <td>16</td>\n",
       "      <td>16</td>\n",
       "      <td>16</td>\n",
       "    </tr>\n",
       "    <tr>\n",
       "      <th>C:/Users/vigne/OneDrive/Desktop/adv_ds_project/annotations/maksssksksss110.xml</th>\n",
       "      <td>26</td>\n",
       "      <td>26</td>\n",
       "      <td>26</td>\n",
       "    </tr>\n",
       "  </tbody>\n",
       "</table>\n",
       "</div>"
      ],
      "text/plain": [
       "                                                    ImgDim  Bndbox  ClassStr\n",
       "Filename                                                                    \n",
       "C:/Users/vigne/OneDrive/Desktop/adv_ds_project/...       3       3         3\n",
       "C:/Users/vigne/OneDrive/Desktop/adv_ds_project/...       9       9         9\n",
       "C:/Users/vigne/OneDrive/Desktop/adv_ds_project/...       1       1         1\n",
       "C:/Users/vigne/OneDrive/Desktop/adv_ds_project/...       3       3         3\n",
       "C:/Users/vigne/OneDrive/Desktop/adv_ds_project/...       1       1         1\n",
       "C:/Users/vigne/OneDrive/Desktop/adv_ds_project/...       1       1         1\n",
       "C:/Users/vigne/OneDrive/Desktop/adv_ds_project/...       4       4         4\n",
       "C:/Users/vigne/OneDrive/Desktop/adv_ds_project/...       8       8         8\n",
       "C:/Users/vigne/OneDrive/Desktop/adv_ds_project/...       9       9         9\n",
       "C:/Users/vigne/OneDrive/Desktop/adv_ds_project/...       1       1         1\n",
       "C:/Users/vigne/OneDrive/Desktop/adv_ds_project/...       1       1         1\n",
       "C:/Users/vigne/OneDrive/Desktop/adv_ds_project/...       5       5         5\n",
       "C:/Users/vigne/OneDrive/Desktop/adv_ds_project/...       1       1         1\n",
       "C:/Users/vigne/OneDrive/Desktop/adv_ds_project/...      16      16        16\n",
       "C:/Users/vigne/OneDrive/Desktop/adv_ds_project/...      26      26        26"
      ]
     },
     "execution_count": 16,
     "metadata": {},
     "output_type": "execute_result"
    }
   ],
   "source": [
    "# Explore number of faces per image\n",
    "df1=df.groupby('Filename').count()\n",
    "df1.head(15)"
   ]
  },
  {
   "cell_type": "code",
   "execution_count": 26,
   "metadata": {},
   "outputs": [
    {
     "data": {
      "image/png": "[encoded data removed]",
      "text/plain": [
       "<Figure size 432x288 with 1 Axes>"
      ]
     },
     "metadata": {
      "needs_background": "light"
     },
     "output_type": "display_data"
    }
   ],
   "source": [
    "# Plot graph for number of faces per image for first 15 images\n",
    "import matplotlib as mpl\n",
    "import matplotlib.pyplot as plt\n",
    "\n",
    "df1 = df1.reset_index()\n",
    "ax = df1['ImgDim'][0:15].plot(kind = 'bar',color = ['r','g','b','y','m','c'])\n",
    "ax.set_title(\"Num of faces per image file\", fontsize=16)\n",
    "ax.set_ylabel(\"Num of faces\", fontsize=12);\n",
    "ax.set_xlabel(\"Image file\", fontsize=12);\n",
    "plt.show()\n",
    "\n",
    "\n"
   ]
  },
  {
   "cell_type": "code",
   "execution_count": 18,
   "metadata": {},
   "outputs": [
    {
     "data": {
      "text/html": [
       "<div>\n",
       "<style scoped>\n",
       "    .dataframe tbody tr th:only-of-type {\n",
       "        vertical-align: middle;\n",
       "    }\n",
       "\n",
       "    .dataframe tbody tr th {\n",
       "        vertical-align: top;\n",
       "    }\n",
       "\n",
       "    .dataframe thead th {\n",
       "        text-align: right;\n",
       "    }\n",
       "</style>\n",
       "<table border=\"1\" class=\"dataframe\">\n",
       "  <thead>\n",
       "    <tr style=\"text-align: right;\">\n",
       "      <th></th>\n",
       "      <th>Filename</th>\n",
       "      <th>ImgDim</th>\n",
       "      <th>Bndbox</th>\n",
       "    </tr>\n",
       "    <tr>\n",
       "      <th>ClassStr</th>\n",
       "      <th></th>\n",
       "      <th></th>\n",
       "      <th></th>\n",
       "    </tr>\n",
       "  </thead>\n",
       "  <tbody>\n",
       "    <tr>\n",
       "      <th>mask_weared_incorrect</th>\n",
       "      <td>123</td>\n",
       "      <td>123</td>\n",
       "      <td>123</td>\n",
       "    </tr>\n",
       "    <tr>\n",
       "      <th>with_mask</th>\n",
       "      <td>3232</td>\n",
       "      <td>3232</td>\n",
       "      <td>3232</td>\n",
       "    </tr>\n",
       "    <tr>\n",
       "      <th>without_mask</th>\n",
       "      <td>717</td>\n",
       "      <td>717</td>\n",
       "      <td>717</td>\n",
       "    </tr>\n",
       "  </tbody>\n",
       "</table>\n",
       "</div>"
      ],
      "text/plain": [
       "                       Filename  ImgDim  Bndbox\n",
       "ClassStr                                       \n",
       "mask_weared_incorrect       123     123     123\n",
       "with_mask                  3232    3232    3232\n",
       "without_mask                717     717     717"
      ]
     },
     "execution_count": 18,
     "metadata": {},
     "output_type": "execute_result"
    }
   ],
   "source": [
    "# Explore the number of faces per class\n",
    "df2=df.groupby('ClassStr').count()\n",
    "df2.head()"
   ]
  },
  {
   "cell_type": "code",
   "execution_count": 25,
   "metadata": {},
   "outputs": [
    {
     "data": {
      "image/png": "[encoded data removed]",
      "text/plain": [
       "<Figure size 432x288 with 1 Axes>"
      ]
     },
     "metadata": {
      "needs_background": "light"
     },
     "output_type": "display_data"
    }
   ],
   "source": [
    "ax = df2['ImgDim'].plot(kind = 'bar', color = ['m','g','b'])\n",
    "ax.set_title(\"Num of faces per category class\", fontsize=16)\n",
    "ax.set_ylabel(\"Num of faces\", fontsize=12);\n",
    "ax.set_xlabel(\"Category class\", fontsize=12);\n",
    "plt.show()\n"
   ]
  },
  {
   "cell_type": "code",
   "execution_count": null,
   "metadata": {},
   "outputs": [],
   "source": []
  }
 ],
 "metadata": {
  "kernelspec": {
   "display_name": "Python 3",
   "language": "python",
   "name": "python3"
  },
  "language_info": {
   "codemirror_mode": {
    "name": "ipython",
    "version": 3
   },
   "file_extension": ".py",
   "mimetype": "text/x-python",
   "name": "python",
   "nbconvert_exporter": "python",
   "pygments_lexer": "ipython3",
   "version": "3.7.6"
  }
 },
 "nbformat": 4,
 "nbformat_minor": 2
}
