{
 "cells": [
  {
   "cell_type": "code",
   "execution_count": null,
   "metadata": {},
   "outputs": [],
   "source": [
    "###########################################################################\n",
    "# I would like to acknowledge the authors of these task and images.\n",
    "# Kaggle problem: https://www.kaggle.com/andrewmvd/face-mask-detection\n",
    "# Source of the data: https://makeml.app/datasets/mask\n",
    "###########################################################################"
   ]
  },
  {
   "cell_type": "code",
   "execution_count": 1,
   "metadata": {},
   "outputs": [
    {
     "name": "stdout",
     "output_type": "stream",
     "text": [
      "Requirement already satisfied: opencv-python in c:\\users\\vigne\\anaconda3\\lib\\site-packages (4.2.0.34)\n",
      "Requirement already satisfied: numpy>=1.14.5 in c:\\users\\vigne\\anaconda3\\lib\\site-packages (from opencv-python) (1.18.1)\n"
     ]
    }
   ],
   "source": [
    "!pip install opencv-python\n"
   ]
  },
  {
   "cell_type": "code",
   "execution_count": 2,
   "metadata": {},
   "outputs": [],
   "source": [
    "import os, sys\n",
    "import pandas as pd\n",
    "import numpy as np\n",
    "import cv2\n",
    "\n",
    "import matplotlib as mpl\n",
    "import matplotlib.pyplot as plt"
   ]
  },
  {
   "cell_type": "markdown",
   "metadata": {},
   "source": [
    "# 1. Import data"
   ]
  },
  {
   "cell_type": "code",
   "execution_count": 3,
   "metadata": {},
   "outputs": [
    {
     "data": {
      "text/plain": [
       "(4072, 100, 100)"
      ]
     },
     "execution_count": 3,
     "metadata": {},
     "output_type": "execute_result"
    }
   ],
   "source": [
    "face_list = np.load(r'C:\\Users\\vigne\\OneDrive\\Desktop\\adv_ds_project\\face_list_pca.npy')\n",
    "face_list.shape"
   ]
  },
  {
   "cell_type": "code",
   "execution_count": 4,
   "metadata": {},
   "outputs": [
    {
     "data": {
      "text/html": [
       "<div>\n",
       "<style scoped>\n",
       "    .dataframe tbody tr th:only-of-type {\n",
       "        vertical-align: middle;\n",
       "    }\n",
       "\n",
       "    .dataframe tbody tr th {\n",
       "        vertical-align: top;\n",
       "    }\n",
       "\n",
       "    .dataframe thead th {\n",
       "        text-align: right;\n",
       "    }\n",
       "</style>\n",
       "<table border=\"1\" class=\"dataframe\">\n",
       "  <thead>\n",
       "    <tr style=\"text-align: right;\">\n",
       "      <th></th>\n",
       "      <th>Filename</th>\n",
       "      <th>ImgDim</th>\n",
       "      <th>Bndbox</th>\n",
       "      <th>ClassStr</th>\n",
       "      <th>label</th>\n",
       "      <th>0</th>\n",
       "      <th>1</th>\n",
       "      <th>2</th>\n",
       "    </tr>\n",
       "  </thead>\n",
       "  <tbody>\n",
       "    <tr>\n",
       "      <th>0</th>\n",
       "      <td>C:/Users/vk/Desktop/adv_ds_project/annotations...</td>\n",
       "      <td>[512, 366]</td>\n",
       "      <td>[79, 109, 105, 142]</td>\n",
       "      <td>without_mask</td>\n",
       "      <td>2</td>\n",
       "      <td>0.0</td>\n",
       "      <td>0.0</td>\n",
       "      <td>1.0</td>\n",
       "    </tr>\n",
       "    <tr>\n",
       "      <th>1</th>\n",
       "      <td>C:/Users/vk/Desktop/adv_ds_project/annotations...</td>\n",
       "      <td>[512, 366]</td>\n",
       "      <td>[185, 226, 100, 144]</td>\n",
       "      <td>with_mask</td>\n",
       "      <td>1</td>\n",
       "      <td>0.0</td>\n",
       "      <td>1.0</td>\n",
       "      <td>0.0</td>\n",
       "    </tr>\n",
       "    <tr>\n",
       "      <th>2</th>\n",
       "      <td>C:/Users/vk/Desktop/adv_ds_project/annotations...</td>\n",
       "      <td>[512, 366]</td>\n",
       "      <td>[325, 360, 90, 141]</td>\n",
       "      <td>without_mask</td>\n",
       "      <td>2</td>\n",
       "      <td>0.0</td>\n",
       "      <td>0.0</td>\n",
       "      <td>1.0</td>\n",
       "    </tr>\n",
       "    <tr>\n",
       "      <th>3</th>\n",
       "      <td>C:/Users/vk/Desktop/adv_ds_project/annotations...</td>\n",
       "      <td>[400, 156]</td>\n",
       "      <td>[321, 354, 34, 69]</td>\n",
       "      <td>with_mask</td>\n",
       "      <td>1</td>\n",
       "      <td>0.0</td>\n",
       "      <td>1.0</td>\n",
       "      <td>0.0</td>\n",
       "    </tr>\n",
       "    <tr>\n",
       "      <th>4</th>\n",
       "      <td>C:/Users/vk/Desktop/adv_ds_project/annotations...</td>\n",
       "      <td>[400, 156]</td>\n",
       "      <td>[224, 261, 38, 73]</td>\n",
       "      <td>with_mask</td>\n",
       "      <td>1</td>\n",
       "      <td>0.0</td>\n",
       "      <td>1.0</td>\n",
       "      <td>0.0</td>\n",
       "    </tr>\n",
       "  </tbody>\n",
       "</table>\n",
       "</div>"
      ],
      "text/plain": [
       "                                            Filename      ImgDim  \\\n",
       "0  C:/Users/vk/Desktop/adv_ds_project/annotations...  [512, 366]   \n",
       "1  C:/Users/vk/Desktop/adv_ds_project/annotations...  [512, 366]   \n",
       "2  C:/Users/vk/Desktop/adv_ds_project/annotations...  [512, 366]   \n",
       "3  C:/Users/vk/Desktop/adv_ds_project/annotations...  [400, 156]   \n",
       "4  C:/Users/vk/Desktop/adv_ds_project/annotations...  [400, 156]   \n",
       "\n",
       "                 Bndbox      ClassStr  label    0    1    2  \n",
       "0   [79, 109, 105, 142]  without_mask      2  0.0  0.0  1.0  \n",
       "1  [185, 226, 100, 144]     with_mask      1  0.0  1.0  0.0  \n",
       "2   [325, 360, 90, 141]  without_mask      2  0.0  0.0  1.0  \n",
       "3    [321, 354, 34, 69]     with_mask      1  0.0  1.0  0.0  \n",
       "4    [224, 261, 38, 73]     with_mask      1  0.0  1.0  0.0  "
      ]
     },
     "execution_count": 4,
     "metadata": {},
     "output_type": "execute_result"
    }
   ],
   "source": [
    "# Import combined_df from FeatureEngineering\n",
    "combined_df = pd.read_csv(r\"C:\\Users\\vigne\\OneDrive\\Desktop\\adv_ds_project\\combined_df_pca.csv\",index_col=[0])\n",
    "combined_df.head()"
   ]
  },
  {
   "cell_type": "markdown",
   "metadata": {},
   "source": [
    "# 2. Train test split data"
   ]
  },
  {
   "cell_type": "code",
   "execution_count": 5,
   "metadata": {},
   "outputs": [],
   "source": [
    "# Reshape image data from 3 dimensions to 2 dimensions\n",
    "size=face_list.shape[1]\n",
    "X = np.reshape(face_list, (face_list.shape[0],size*size))\n",
    "Y = combined_df['label']"
   ]
  },
  {
   "cell_type": "code",
   "execution_count": 6,
   "metadata": {},
   "outputs": [
    {
     "data": {
      "text/plain": [
       "(4072, 10000)"
      ]
     },
     "execution_count": 6,
     "metadata": {},
     "output_type": "execute_result"
    }
   ],
   "source": [
    "X.shape"
   ]
  },
  {
   "cell_type": "code",
   "execution_count": 7,
   "metadata": {},
   "outputs": [],
   "source": [
    "from sklearn.model_selection import train_test_split\n",
    "x_train, x_validate, y_train, y_validate = train_test_split(X, Y, test_size=0.1, random_state=0)"
   ]
  },
  {
   "cell_type": "code",
   "execution_count": 8,
   "metadata": {},
   "outputs": [
    {
     "name": "stdout",
     "output_type": "stream",
     "text": [
      "Training face_list and label sizes: \n",
      "(3664, 10000), (3664,)\n",
      "Test face_list and label sizes: \n",
      "(408, 10000), (408,)\n"
     ]
    }
   ],
   "source": [
    "print('Training face_list and label sizes: \\n{}, {}'.format(x_train.shape,y_train.shape))\n",
    "print('Test face_list and label sizes: \\n{}, {}'.format(x_validate.shape,y_validate.shape))"
   ]
  },
  {
   "cell_type": "markdown",
   "metadata": {},
   "source": [
    "# 3. RandomForest - Gridsearch"
   ]
  },
  {
   "cell_type": "code",
   "execution_count": 17,
   "metadata": {},
   "outputs": [
    {
     "data": {
      "text/plain": [
       "GridSearchCV(cv=5, error_score=nan,\n",
       "             estimator=RandomForestClassifier(bootstrap=True, ccp_alpha=0.0,\n",
       "                                              class_weight={0: 0.9, 1: 0.01,\n",
       "                                                            2: 0.06},\n",
       "                                              criterion='gini', max_depth=None,\n",
       "                                              max_features='auto',\n",
       "                                              max_leaf_nodes=None,\n",
       "                                              max_samples=None,\n",
       "                                              min_impurity_decrease=0.0,\n",
       "                                              min_impurity_split=None,\n",
       "                                              min_samples_leaf=1,\n",
       "                                              min_samples_split=2,\n",
       "                                              min_weight_fraction_leaf=0.0,\n",
       "                                              n_estimators=100, n_jobs=None,\n",
       "                                              oob_score=False, random_state=0,\n",
       "                                              verbose=0, warm_start=False),\n",
       "             iid='deprecated', n_jobs=None,\n",
       "             param_grid={'max_depth': [3, 4, 5], 'n_estimators': [50, 100]},\n",
       "             pre_dispatch='2*n_jobs', refit=True, return_train_score=False,\n",
       "             scoring=None, verbose=0)"
      ]
     },
     "execution_count": 17,
     "metadata": {},
     "output_type": "execute_result"
    }
   ],
   "source": [
    "## Import classifiers and performance metrics\n",
    "from sklearn import svm, metrics\n",
    "from sklearn.ensemble import RandomForestClassifier\n",
    "from sklearn.model_selection import cross_val_score, GridSearchCV\n",
    "\n",
    "#Hyperparameters that are tuned for gridsearch\n",
    "param_grid = { \n",
    "    'n_estimators': [50,100],\n",
    "    'max_depth' : [3,4,5]\n",
    "}\n",
    "rfc=RandomForestClassifier(class_weight = {0:0.9,1:0.01,2:0.06}, random_state=0)\n",
    "#rfc=RandomForestClassifier(class_weight = 'balanced', random_state=0)\n",
    "\n",
    "rf_cv = GridSearchCV(estimator=rfc, param_grid=param_grid, cv= 5)\n",
    "rf_cv.fit(x_train, y_train)\n",
    "\n",
    "\n"
   ]
  },
  {
   "cell_type": "code",
   "execution_count": 18,
   "metadata": {},
   "outputs": [
    {
     "data": {
      "text/plain": [
       "{'max_depth': 5, 'n_estimators': 100}"
      ]
     },
     "execution_count": 18,
     "metadata": {},
     "output_type": "execute_result"
    }
   ],
   "source": [
    "rf_cv.best_params_"
   ]
  },
  {
   "cell_type": "code",
   "execution_count": 33,
   "metadata": {},
   "outputs": [
    {
     "data": {
      "text/plain": [
       "RandomForestClassifier(bootstrap=True, ccp_alpha=0.0,\n",
       "                       class_weight={0: 0.9, 1: 0.01, 2: 0.06},\n",
       "                       criterion='gini', max_depth=5, max_features='auto',\n",
       "                       max_leaf_nodes=None, max_samples=None,\n",
       "                       min_impurity_decrease=0.0, min_impurity_split=None,\n",
       "                       min_samples_leaf=1, min_samples_split=2,\n",
       "                       min_weight_fraction_leaf=0.0, n_estimators=100,\n",
       "                       n_jobs=None, oob_score=False, random_state=0, verbose=0,\n",
       "                       warm_start=False)"
      ]
     },
     "execution_count": 33,
     "metadata": {},
     "output_type": "execute_result"
    }
   ],
   "source": [
    "\n",
    "rf_model = RandomForestClassifier(class_weight = {0:0.9,1:0.01,2:0.06}, n_estimators = 100,max_depth = 5, random_state=0)\n",
    "rf_model.fit(x_train, y_train)"
   ]
  },
  {
   "cell_type": "code",
   "execution_count": 34,
   "metadata": {},
   "outputs": [
    {
     "name": "stdout",
     "output_type": "stream",
     "text": [
      "Best score for training data: 0.666749416649893 \n",
      "\n",
      "Best C: 100 \n",
      "\n",
      "Best Gamma: 5 \n",
      "\n"
     ]
    }
   ],
   "source": [
    "## View the accuracy score\n",
    "print('Best score for training data:', rf_cv.best_score_,\"\\n\") \n",
    "\n",
    "## View the best parameters for the model found using grid search\n",
    "print('Best C:',rf_cv.best_estimator_.n_estimators,\"\\n\") \n",
    "print('Best Gamma:',rf_cv.best_estimator_.max_depth,\"\\n\")\n",
    "\n"
   ]
  },
  {
   "cell_type": "code",
   "execution_count": 35,
   "metadata": {},
   "outputs": [
    {
     "name": "stdout",
     "output_type": "stream",
     "text": [
      "Classification report for rf model RandomForestClassifier(bootstrap=True, ccp_alpha=0.0,\n",
      "                       class_weight={0: 0.9, 1: 0.01, 2: 0.06},\n",
      "                       criterion='gini', max_depth=5, max_features='auto',\n",
      "                       max_leaf_nodes=None, max_samples=None,\n",
      "                       min_impurity_decrease=0.0, min_impurity_split=None,\n",
      "                       min_samples_leaf=1, min_samples_split=2,\n",
      "                       min_weight_fraction_leaf=0.0, n_estimators=100,\n",
      "                       n_jobs=None, oob_score=False, random_state=0, verbose=0,\n",
      "                       warm_start=False):\n",
      "              precision    recall  f1-score   support\n",
      "\n",
      "           0       0.15      0.99      0.26       111\n",
      "           1       0.99      0.66      0.79      2908\n",
      "           2       0.56      0.87      0.68       645\n",
      "\n",
      "    accuracy                           0.71      3664\n",
      "   macro avg       0.57      0.84      0.58      3664\n",
      "weighted avg       0.89      0.71      0.76      3664\n",
      "\n",
      "\n"
     ]
    }
   ],
   "source": [
    "y_pred_train = rf_model.predict(x_train)\n",
    "print(\"Classification report for rf model %s:\\n%s\\n\"\n",
    "      % (rf_model, metrics.classification_report(y_train, y_pred_train)))"
   ]
  },
  {
   "cell_type": "markdown",
   "metadata": {},
   "source": [
    "# 4. Predict"
   ]
  },
  {
   "cell_type": "code",
   "execution_count": 36,
   "metadata": {},
   "outputs": [],
   "source": [
    "y_pred = rf_model.predict(x_validate)"
   ]
  },
  {
   "cell_type": "markdown",
   "metadata": {},
   "source": [
    "# 5. Evaluation - Confusion Matrix"
   ]
  },
  {
   "cell_type": "code",
   "execution_count": 37,
   "metadata": {},
   "outputs": [
    {
     "name": "stdout",
     "output_type": "stream",
     "text": [
      "Classification report for rf_model RandomForestClassifier(bootstrap=True, ccp_alpha=0.0,\n",
      "                       class_weight={0: 0.9, 1: 0.01, 2: 0.06},\n",
      "                       criterion='gini', max_depth=5, max_features='auto',\n",
      "                       max_leaf_nodes=None, max_samples=None,\n",
      "                       min_impurity_decrease=0.0, min_impurity_split=None,\n",
      "                       min_samples_leaf=1, min_samples_split=2,\n",
      "                       min_weight_fraction_leaf=0.0, n_estimators=100,\n",
      "                       n_jobs=None, oob_score=False, random_state=0, verbose=0,\n",
      "                       warm_start=False):\n",
      "              precision    recall  f1-score   support\n",
      "\n",
      "           0       0.07      0.50      0.12        12\n",
      "           1       0.96      0.58      0.72       324\n",
      "           2       0.42      0.74      0.53        72\n",
      "\n",
      "    accuracy                           0.61       408\n",
      "   macro avg       0.48      0.61      0.46       408\n",
      "weighted avg       0.84      0.61      0.67       408\n",
      "\n",
      "\n"
     ]
    }
   ],
   "source": [
    "# Compare predicted and expected values\n",
    "print(\"Classification report for rf_model %s:\\n%s\\n\"\n",
    "      % (rf_model, metrics.classification_report(y_validate, y_pred)))"
   ]
  },
  {
   "cell_type": "code",
   "execution_count": 38,
   "metadata": {},
   "outputs": [],
   "source": [
    "# 0 = mask worn wrongly 1 = with mask  2 = without mask"
   ]
  },
  {
   "cell_type": "markdown",
   "metadata": {},
   "source": [
    "### Visualization - True Positives v.s. False Positives"
   ]
  },
  {
   "cell_type": "code",
   "execution_count": 39,
   "metadata": {},
   "outputs": [
    {
     "data": {
      "text/plain": [
       "array([[  6,   1,   5],\n",
       "       [ 67, 188,  69],\n",
       "       [ 12,   7,  53]], dtype=int64)"
      ]
     },
     "execution_count": 39,
     "metadata": {},
     "output_type": "execute_result"
    }
   ],
   "source": [
    "from sklearn.metrics import confusion_matrix\n",
    "cf = confusion_matrix(y_validate, y_pred)\n",
    "cf #cf[actu][pred]\n",
    "# pred 0 1 2\n",
    "# actu\n",
    "# 0\n",
    "# 1\n",
    "# 2"
   ]
  },
  {
   "cell_type": "code",
   "execution_count": 40,
   "metadata": {},
   "outputs": [
    {
     "data": {
      "image/png": "[encoded data removed]",
      "text/plain": [
       "<Figure size 432x288 with 1 Axes>"
      ]
     },
     "metadata": {
      "needs_background": "light"
     },
     "output_type": "display_data"
    }
   ],
   "source": [
    "# segregate images with actual labels = 1 when prediction = 1 \n",
    "img_with_mask1 = cf[1][1]\n",
    "# segregate images with actual labels = 0 when prediction = 1 \n",
    "img_worn_wrongly1 = cf[0][1]\n",
    "# segregate images with actual labels = 2 when prediction = 1 \n",
    "img_without_mask1 = cf[2][1]\n",
    "\n",
    "# Find % of images predicted to be 1\n",
    "t1 = img_with_mask1 + img_worn_wrongly1 + img_without_mask1\n",
    "p1 = int(img_with_mask1/t1*100)\n",
    "p0 = int(img_worn_wrongly1/t1*100)\n",
    "p2 = 100-p1-p0\n",
    "\n",
    "\n",
    "plt.bar([\"with mask-\"+str(p1)+\"%\",\"mask worn wrongly-\"+str(p0)+\"%\",\"without mask-\"+str(p2)+\"%\"],[img_with_mask1,img_worn_wrongly1,img_without_mask1])\n",
    "plt.title(\"Number of masks per category predicted as with mask\")\n",
    "plt.ylabel(\"Number of masks\")\n",
    "plt.show()"
   ]
  },
  {
   "cell_type": "code",
   "execution_count": 41,
   "metadata": {},
   "outputs": [
    {
     "data": {
      "image/png": "[encoded data removed]",
      "text/plain": [
       "<Figure size 432x288 with 1 Axes>"
      ]
     },
     "metadata": {
      "needs_background": "light"
     },
     "output_type": "display_data"
    }
   ],
   "source": [
    "# segregate images with actual labels = 1 when prediction = 0 \n",
    "img_with_mask0 = cf[1][0]\n",
    "# segregate images with actual labels = 0 when prediction = 0 \n",
    "img_worn_wrongly0 = cf[0][0]\n",
    "# segregate images with actual labels = 2 when prediction = 0 \n",
    "img_without_mask0 = cf[2][0]\n",
    "\n",
    "# Find % of images predicted to be 0\n",
    "t0 = img_with_mask0 + img_worn_wrongly0 + img_without_mask0\n",
    "p1 = int(img_with_mask0/t0*100)\n",
    "p0 = int(img_worn_wrongly0/t0*100)\n",
    "p2 = 100-p1-p0\n",
    "\n",
    "\n",
    "plt.bar([\"with mask-\"+str(p1)+\"%\",\"mask worn wrongly-\"+str(p0)+\"%\",\"without mask-\"+str(p2)+\"%\"],[img_with_mask0,img_worn_wrongly0,img_without_mask0])\n",
    "plt.title(\"Number of masks per category predicted as mask worn wrongly\")\n",
    "plt.ylabel(\"Number of masks\")\n",
    "plt.show()"
   ]
  },
  {
   "cell_type": "code",
   "execution_count": 42,
   "metadata": {},
   "outputs": [
    {
     "data": {
      "image/png": "[encoded data removed]",
      "text/plain": [
       "<Figure size 432x288 with 1 Axes>"
      ]
     },
     "metadata": {
      "needs_background": "light"
     },
     "output_type": "display_data"
    }
   ],
   "source": [
    "\n",
    "# segregate images with actual labels = 1 when prediction = 2\n",
    "img_with_mask2 = cf[1][2]\n",
    "# segregate images with actual labels = 0 when prediction = 2 \n",
    "img_worn_wrongly2 = cf[0][2]\n",
    "# segregate images with actual labels = 2 when prediction = 2 \n",
    "img_without_mask2 = cf[2][2]\n",
    "\n",
    "# Find % of images predicted to be 2\n",
    "t2 = img_with_mask2 + img_worn_wrongly2 + img_without_mask2\n",
    "p1 = int(img_with_mask2/t2*100)\n",
    "p0 = int(img_worn_wrongly2/t2*100)\n",
    "p2 = 100-p1-p0\n",
    "\n",
    "\n",
    "plt.bar([\"with mask-\"+str(p1)+\"%\",\"mask worn wrongly-\"+str(p0)+\"%\",\"without mask-\"+str(p2)+\"%\"],[img_with_mask2,img_worn_wrongly2,img_without_mask2])\n",
    "plt.title(\"Number of masks per category predicted as without mask\")\n",
    "plt.ylabel(\"Number of masks\")\n",
    "plt.show()"
   ]
  },
  {
   "cell_type": "markdown",
   "metadata": {},
   "source": [
    "### Visualization - True Positives v.s. False Negatives"
   ]
  },
  {
   "cell_type": "code",
   "execution_count": 43,
   "metadata": {},
   "outputs": [
    {
     "data": {
      "image/png": "[encoded data removed]",
      "text/plain": [
       "<Figure size 432x288 with 1 Axes>"
      ]
     },
     "metadata": {},
     "output_type": "display_data"
    }
   ],
   "source": [
    "# Prediction of images with actuals labels = 1 (with mask)\n",
    "\n",
    "# Data to plot\n",
    "pred_labels = ['with mask', 'mask worn wrongly', 'without mask']\n",
    "sizes = [img_with_mask1, img_with_mask0, img_with_mask2]\n",
    "colors = ['gold', 'yellowgreen', 'lightcoral']\n",
    "\n",
    "# Plot\n",
    "plt.pie(sizes, labels=pred_labels, colors=colors, autopct='%1.0f%%', shadow=False, startangle=140)\n",
    "plt.title(\"Prediction of masks actually labelled as with mask\")\n",
    "\n",
    "plt.axis('equal')\n",
    "plt.show()"
   ]
  },
  {
   "cell_type": "code",
   "execution_count": 44,
   "metadata": {},
   "outputs": [
    {
     "data": {
      "image/png": "[encoded data removed]",
      "text/plain": [
       "<Figure size 432x288 with 1 Axes>"
      ]
     },
     "metadata": {},
     "output_type": "display_data"
    }
   ],
   "source": [
    "# Prediction of images with actuals labels = 0 (mask worn wrongly)\n",
    "\n",
    "# Data to plot\n",
    "pred_labels = ['with mask', 'mask worn wrongly', 'without mask']\n",
    "sizes = [img_worn_wrongly1, img_worn_wrongly0, img_worn_wrongly2]\n",
    "colors = ['gold', 'yellowgreen', 'lightcoral']\n",
    "\n",
    "# Plot\n",
    "plt.pie(sizes, labels=pred_labels, colors=colors, autopct='%1.0f%%', shadow=False, startangle=140)\n",
    "plt.title(\"Prediction of masks actually labelled as mask worn wrongly\")\n",
    "\n",
    "plt.axis('equal')\n",
    "plt.show()"
   ]
  },
  {
   "cell_type": "code",
   "execution_count": 45,
   "metadata": {},
   "outputs": [
    {
     "data": {
      "image/png": "[encoded data removed]",
      "text/plain": [
       "<Figure size 432x288 with 1 Axes>"
      ]
     },
     "metadata": {},
     "output_type": "display_data"
    }
   ],
   "source": [
    "# Prediction of images with actuals labels = 2 (mask worn wrongly)\n",
    "\n",
    "# Data to plot\n",
    "pred_labels = ['with mask', 'mask worn wrongly', 'without mask']\n",
    "sizes = [img_without_mask1, img_without_mask0, img_without_mask2]\n",
    "colors = ['gold', 'yellowgreen', 'lightcoral']\n",
    "\n",
    "# Plot\n",
    "plt.pie(sizes, labels=pred_labels, colors=colors, autopct='%1.0f%%', shadow=False, startangle=140)\n",
    "plt.title(\"Prediction of masks actually labelled as without mask\")\n",
    "\n",
    "plt.axis('equal')\n",
    "plt.show()"
   ]
  },
  {
   "cell_type": "markdown",
   "metadata": {},
   "source": [
    "# 6. Save models"
   ]
  },
  {
   "cell_type": "code",
   "execution_count": 46,
   "metadata": {},
   "outputs": [],
   "source": [
    "import pickle as pk\n",
    "pk.dump(rf_model, open(r\"C:\\Users\\vigne\\OneDrive\\Desktop\\adv_ds_project\\rf_model.pkl\",\"wb\"))\n"
   ]
  },
  {
   "cell_type": "code",
   "execution_count": null,
   "metadata": {},
   "outputs": [],
   "source": []
  }
 ],
 "metadata": {
  "kernelspec": {
   "display_name": "Python 3",
   "language": "python",
   "name": "python3"
  },
  "language_info": {
   "codemirror_mode": {
    "name": "ipython",
    "version": 3
   },
   "file_extension": ".py",
   "mimetype": "text/x-python",
   "name": "python",
   "nbconvert_exporter": "python",
   "pygments_lexer": "ipython3",
   "version": "3.7.6"
  }
 },
 "nbformat": 4,
 "nbformat_minor": 2
}
